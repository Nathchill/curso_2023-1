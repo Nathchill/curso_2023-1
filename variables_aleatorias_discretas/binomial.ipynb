{
 "cells": [
  {
   "attachments": {},
   "cell_type": "markdown",
   "metadata": {},
   "source": [
    "[![Open In Colab](https://colab.research.google.com/assets/colab-badge.svg)](https://colab.research.google.com/github/estocasticos-udem/curso_2023-1/blob/main/variables_aleatorias_discretas/binomial.ipynb)"
   ]
  },
  {
   "cell_type": "code",
   "execution_count": 47,
   "metadata": {},
   "outputs": [],
   "source": [
    "import scipy.stats as stats\n",
    "import numpy as np\n",
    "import matplotlib.pyplot as plt\n",
    "import pandas as pd"
   ]
  },
  {
   "cell_type": "markdown",
   "metadata": {},
   "source": [
    "# Distribución binomial"
   ]
  },
  {
   "attachments": {},
   "cell_type": "markdown",
   "metadata": {},
   "source": [
    "## Ejemplo 1\n",
    "\n",
    "Cada hijo de un par particular de padres tiene una probabilidad de 0.25 de tener sangre tipo O. La genética dice que los niños reciben genes de cada uno de sus padres de forma independiente. Si estos padres tienen 5 hijos, calcule la probabilidad de que exactamente 3 de los niños tengan sangre tipo O.\n",
    "\n",
    "El experimento es binomial con:\n",
    "* **Acierto (S)**: El niño tiene sangre tipo O.\n",
    "* **Falla (F)**: El niño tiene un tipo de sangre distinto del O (Tipo A, AB o B).\n",
    "\n",
    "Ahora definamos la VA (Variable aleatoria) $X$ como el Numero de hijos con sangre tipo O. El rango de esta variable esta dado:\n",
    "\n",
    "$$\n",
    "x=S_X = \\{0, 1, 2, 3, 4, 5\\}\n",
    "$$\n",
    "\n",
    "Ademas $X \\sim Bin(n,p)$ donde segun el enunciado:\n",
    "* $n = 5$\n",
    "* $p = 0.25$\n",
    "* $p = 1 - p = 1- 0.25 = 0.75$\n",
    "\n"
   ]
  },
  {
   "cell_type": "code",
   "execution_count": 48,
   "metadata": {},
   "outputs": [],
   "source": [
    "\"\"\"\n",
    "Definición de la VA binomial: X ~ Bin(n,p)\n",
    "\n",
    "X: Numero de hijos con sangre tipo O\n",
    "- n: Numero de hijos\n",
    "- p: 0.25\n",
    "- q: 1 - p = 0.75\n",
    "\"\"\"\n",
    "n = 5\n",
    "p = 0.25\n",
    "X = stats.binom(n = 5, p = 0.25)"
   ]
  },
  {
   "attachments": {},
   "cell_type": "markdown",
   "metadata": {},
   "source": [
    "1. Calcule la probabilidad de que exactamente 3 de los niños tengan sangre tipo O.\n",
    "   \n",
    "   Se nos pide $P(X = 3)$:"
   ]
  },
  {
   "cell_type": "code",
   "execution_count": 49,
   "metadata": {},
   "outputs": [
    {
     "name": "stdout",
     "output_type": "stream",
     "text": [
      "P(X=3) = 0.08789\n"
     ]
    }
   ],
   "source": [
    "# P(X = 3)\n",
    "p_3 = X.pmf(3)\n",
    "print(\"P(X=3) = {0:0.5f}\".format(p_3))"
   ]
  },
  {
   "attachments": {},
   "cell_type": "markdown",
   "metadata": {},
   "source": [
    "2. ¿Deberían sorprenderse los padres si más de 3 de sus hijos tienen sangre tipo O? "
   ]
  },
  {
   "cell_type": "code",
   "execution_count": 50,
   "metadata": {},
   "outputs": [
    {
     "name": "stdout",
     "output_type": "stream",
     "text": [
      "P(X>3) = 0.01562\n"
     ]
    }
   ],
   "source": [
    "# P(X > 3)\n",
    "p_mayor3 = X.pmf(4) + X.pmf(5)\n",
    "print(\"P(X>3) = {0:0.5f}\".format(p_mayor3))"
   ]
  },
  {
   "attachments": {},
   "cell_type": "markdown",
   "metadata": {},
   "source": [
    "Dado que solo hay un 1,5% de probabilidad de que más de 3 de cada 5 niños tengan sangre tipo O, **¡los padres deberían sorprenderse!**"
   ]
  },
  {
   "attachments": {},
   "cell_type": "markdown",
   "metadata": {},
   "source": [
    "3. Obtenga la media, la varianza y la desviación estandar."
   ]
  },
  {
   "cell_type": "code",
   "execution_count": 51,
   "metadata": {},
   "outputs": [
    {
     "name": "stdout",
     "output_type": "stream",
     "text": [
      "- Media: E(X) = 1.250000\n",
      "- Varianza: Var(X) = 0.937500\n",
      "- Desv. estandar: sd(X) = 0.968246\n"
     ]
    }
   ],
   "source": [
    "E = X.mean()      # E = stats.binom.mean(n = 5, p = .25)\n",
    "V = X.var()       # V = stats.binom.var(n = 5, p = .25)\n",
    "S = X.std()      # V = stats.binom.var(n = 5, p = .25)\n",
    "\n",
    "print(\"- Media: E(X) = {0:2f}\".format(E))\n",
    "print(\"- Varianza: Var(X) = {0:2f}\".format(V))\n",
    "print(\"- Desv. estandar: sd(X) = {0:2f}\".format(S))"
   ]
  },
  {
   "attachments": {},
   "cell_type": "markdown",
   "metadata": {},
   "source": [
    "4. Grafique la PFM"
   ]
  },
  {
   "cell_type": "code",
   "execution_count": 52,
   "metadata": {},
   "outputs": [
    {
     "data": {
      "text/html": [
       "<div>\n",
       "<style scoped>\n",
       "    .dataframe tbody tr th:only-of-type {\n",
       "        vertical-align: middle;\n",
       "    }\n",
       "\n",
       "    .dataframe tbody tr th {\n",
       "        vertical-align: top;\n",
       "    }\n",
       "\n",
       "    .dataframe thead th {\n",
       "        text-align: right;\n",
       "    }\n",
       "</style>\n",
       "<table border=\"1\" class=\"dataframe\">\n",
       "  <thead>\n",
       "    <tr style=\"text-align: right;\">\n",
       "      <th></th>\n",
       "      <th>x</th>\n",
       "      <th>pmf</th>\n",
       "    </tr>\n",
       "  </thead>\n",
       "  <tbody>\n",
       "    <tr>\n",
       "      <th>0</th>\n",
       "      <td>0</td>\n",
       "      <td>0.237305</td>\n",
       "    </tr>\n",
       "    <tr>\n",
       "      <th>1</th>\n",
       "      <td>1</td>\n",
       "      <td>0.395508</td>\n",
       "    </tr>\n",
       "    <tr>\n",
       "      <th>2</th>\n",
       "      <td>2</td>\n",
       "      <td>0.263672</td>\n",
       "    </tr>\n",
       "    <tr>\n",
       "      <th>3</th>\n",
       "      <td>3</td>\n",
       "      <td>0.087891</td>\n",
       "    </tr>\n",
       "    <tr>\n",
       "      <th>4</th>\n",
       "      <td>4</td>\n",
       "      <td>0.014648</td>\n",
       "    </tr>\n",
       "    <tr>\n",
       "      <th>5</th>\n",
       "      <td>5</td>\n",
       "      <td>0.000977</td>\n",
       "    </tr>\n",
       "  </tbody>\n",
       "</table>\n",
       "</div>"
      ],
      "text/plain": [
       "   x       pmf\n",
       "0  0  0.237305\n",
       "1  1  0.395508\n",
       "2  2  0.263672\n",
       "3  3  0.087891\n",
       "4  4  0.014648\n",
       "5  5  0.000977"
      ]
     },
     "execution_count": 52,
     "metadata": {},
     "output_type": "execute_result"
    }
   ],
   "source": [
    "x = list(range(n + 1))\n",
    "pmf = X.pmf(x)\n",
    "df = pd.DataFrame({\"x\":x,\"pmf\":pmf},columns=[\"x\",\"pmf\"])\n",
    "df"
   ]
  },
  {
   "cell_type": "code",
   "execution_count": 53,
   "metadata": {},
   "outputs": [
    {
     "data": {
      "text/plain": [
       "Text(0, 0.5, 'Probabilidad')"
      ]
     },
     "execution_count": 53,
     "metadata": {},
     "output_type": "execute_result"
    },
    {
     "data": {
      "image/png": "[encoded data removed]",
      "text/plain": [
       "<Figure size 640x480 with 1 Axes>"
      ]
     },
     "metadata": {},
     "output_type": "display_data"
    }
   ],
   "source": [
    "# Grafica\n",
    "plt.plot(x, pmf, 'bs', ms=10)\n",
    "plt.vlines(x, 0, pmf, colors='b', lw = 5, alpha=0.5)\n",
    "plt.xlabel(\"Numero de hijos con sangre tipo O\")\n",
    "plt.ylabel(\"Probabilidad\")"
   ]
  },
  {
   "attachments": {},
   "cell_type": "markdown",
   "metadata": {},
   "source": [
    "## Ejemplo 2\n",
    "\n",
    "Los 21 estudiantes de un curso de calidad del agua hicieron una actividad de laboratorio. Si asumimos que los estudiantes de la clase no pueden distinguir el agua del grifo del agua embotellada, y que cada uno tiene 1/3 de probabilidad de identificar correctamente los diferentes tipos de agua al adivinar.\n",
    "\n",
    "Sea $Y$ el número de estudiantes que identifican correctamente el vaso que contiene el diferente tipo de agua. Tenemos que $Y \\sim Bin(n,p)$ donde:\n",
    "* $n = 21$\n",
    "* $p = 1/3$\n",
    "* $q = 2/3$"
   ]
  },
  {
   "cell_type": "code",
   "execution_count": 54,
   "metadata": {},
   "outputs": [
    {
     "data": {
      "text/html": [
       "<div>\n",
       "<style scoped>\n",
       "    .dataframe tbody tr th:only-of-type {\n",
       "        vertical-align: middle;\n",
       "    }\n",
       "\n",
       "    .dataframe tbody tr th {\n",
       "        vertical-align: top;\n",
       "    }\n",
       "\n",
       "    .dataframe thead th {\n",
       "        text-align: right;\n",
       "    }\n",
       "</style>\n",
       "<table border=\"1\" class=\"dataframe\">\n",
       "  <thead>\n",
       "    <tr style=\"text-align: right;\">\n",
       "      <th></th>\n",
       "      <th>y</th>\n",
       "      <th>p(y)</th>\n",
       "    </tr>\n",
       "  </thead>\n",
       "  <tbody>\n",
       "    <tr>\n",
       "      <th>0</th>\n",
       "      <td>0</td>\n",
       "      <td>2.004858e-04</td>\n",
       "    </tr>\n",
       "    <tr>\n",
       "      <th>1</th>\n",
       "      <td>1</td>\n",
       "      <td>2.105101e-03</td>\n",
       "    </tr>\n",
       "    <tr>\n",
       "      <th>2</th>\n",
       "      <td>2</td>\n",
       "      <td>1.052550e-02</td>\n",
       "    </tr>\n",
       "    <tr>\n",
       "      <th>3</th>\n",
       "      <td>3</td>\n",
       "      <td>3.333076e-02</td>\n",
       "    </tr>\n",
       "    <tr>\n",
       "      <th>4</th>\n",
       "      <td>4</td>\n",
       "      <td>7.499421e-02</td>\n",
       "    </tr>\n",
       "    <tr>\n",
       "      <th>5</th>\n",
       "      <td>5</td>\n",
       "      <td>1.274902e-01</td>\n",
       "    </tr>\n",
       "    <tr>\n",
       "      <th>6</th>\n",
       "      <td>6</td>\n",
       "      <td>1.699869e-01</td>\n",
       "    </tr>\n",
       "    <tr>\n",
       "      <th>7</th>\n",
       "      <td>7</td>\n",
       "      <td>1.821288e-01</td>\n",
       "    </tr>\n",
       "    <tr>\n",
       "      <th>8</th>\n",
       "      <td>8</td>\n",
       "      <td>1.593627e-01</td>\n",
       "    </tr>\n",
       "    <tr>\n",
       "      <th>9</th>\n",
       "      <td>9</td>\n",
       "      <td>1.150953e-01</td>\n",
       "    </tr>\n",
       "    <tr>\n",
       "      <th>10</th>\n",
       "      <td>10</td>\n",
       "      <td>6.905717e-02</td>\n",
       "    </tr>\n",
       "    <tr>\n",
       "      <th>11</th>\n",
       "      <td>11</td>\n",
       "      <td>3.452858e-02</td>\n",
       "    </tr>\n",
       "    <tr>\n",
       "      <th>12</th>\n",
       "      <td>12</td>\n",
       "      <td>1.438691e-02</td>\n",
       "    </tr>\n",
       "    <tr>\n",
       "      <th>13</th>\n",
       "      <td>13</td>\n",
       "      <td>4.980084e-03</td>\n",
       "    </tr>\n",
       "    <tr>\n",
       "      <th>14</th>\n",
       "      <td>14</td>\n",
       "      <td>1.422881e-03</td>\n",
       "    </tr>\n",
       "    <tr>\n",
       "      <th>15</th>\n",
       "      <td>15</td>\n",
       "      <td>3.320056e-04</td>\n",
       "    </tr>\n",
       "    <tr>\n",
       "      <th>16</th>\n",
       "      <td>16</td>\n",
       "      <td>6.225105e-05</td>\n",
       "    </tr>\n",
       "    <tr>\n",
       "      <th>17</th>\n",
       "      <td>17</td>\n",
       "      <td>9.154567e-06</td>\n",
       "    </tr>\n",
       "    <tr>\n",
       "      <th>18</th>\n",
       "      <td>18</td>\n",
       "      <td>1.017174e-06</td>\n",
       "    </tr>\n",
       "    <tr>\n",
       "      <th>19</th>\n",
       "      <td>19</td>\n",
       "      <td>8.030322e-08</td>\n",
       "    </tr>\n",
       "    <tr>\n",
       "      <th>20</th>\n",
       "      <td>20</td>\n",
       "      <td>4.015161e-09</td>\n",
       "    </tr>\n",
       "    <tr>\n",
       "      <th>21</th>\n",
       "      <td>21</td>\n",
       "      <td>9.559907e-11</td>\n",
       "    </tr>\n",
       "  </tbody>\n",
       "</table>\n",
       "</div>"
      ],
      "text/plain": [
       "     y          p(y)\n",
       "0    0  2.004858e-04\n",
       "1    1  2.105101e-03\n",
       "2    2  1.052550e-02\n",
       "3    3  3.333076e-02\n",
       "4    4  7.499421e-02\n",
       "5    5  1.274902e-01\n",
       "6    6  1.699869e-01\n",
       "7    7  1.821288e-01\n",
       "8    8  1.593627e-01\n",
       "9    9  1.150953e-01\n",
       "10  10  6.905717e-02\n",
       "11  11  3.452858e-02\n",
       "12  12  1.438691e-02\n",
       "13  13  4.980084e-03\n",
       "14  14  1.422881e-03\n",
       "15  15  3.320056e-04\n",
       "16  16  6.225105e-05\n",
       "17  17  9.154567e-06\n",
       "18  18  1.017174e-06\n",
       "19  19  8.030322e-08\n",
       "20  20  4.015161e-09\n",
       "21  21  9.559907e-11"
      ]
     },
     "execution_count": 54,
     "metadata": {},
     "output_type": "execute_result"
    }
   ],
   "source": [
    "n = 21\n",
    "p = 1/3 \n",
    "\n",
    "# Definicion del a VA \n",
    "Y = stats.binom(n = 21, p = 1/3)\n",
    "y = np.arange(n+1) # Rango de la VA\n",
    "\n",
    "# Calculo de la PFM\n",
    "pmf_y = Y.pmf(y)\n",
    "\n",
    "# Tabla de la PFM\n",
    "df = pd.DataFrame(data = {\"y\":y,\"p(y)\":pmf_y})\n",
    "df"
   ]
  },
  {
   "cell_type": "code",
   "execution_count": 59,
   "metadata": {},
   "outputs": [
    {
     "data": {
      "text/plain": [
       "Text(0, 0.5, 'Probabilidad')"
      ]
     },
     "execution_count": 59,
     "metadata": {},
     "output_type": "execute_result"
    },
    {
     "data": {
      "image/png": "[encoded data removed]",
      "text/plain": [
       "<Figure size 640x480 with 1 Axes>"
      ]
     },
     "metadata": {},
     "output_type": "display_data"
    }
   ],
   "source": [
    "# Grafica\n",
    "plt.plot(y, pmf_y, 'rs', ms=10)\n",
    "plt.vlines(y, 0, pmf_y, colors='r', lw = 5, alpha=0.5)\n",
    "plt.xlabel(\"Numero de estudiantes que identifica correctamente el tipo de agua del baso\")\n",
    "plt.ylabel(\"Probabilidad\")"
   ]
  },
  {
   "cell_type": "code",
   "execution_count": 60,
   "metadata": {},
   "outputs": [
    {
     "name": "stdout",
     "output_type": "stream",
     "text": [
      "- Media: E(X) = 7.000000\n",
      "- Varianza: Var(X) = 4.666667\n",
      "- Desv. estandar: sd(X) = 2.160247\n"
     ]
    }
   ],
   "source": [
    "# Calculo de l\n",
    "E_y = Y.mean()      # E_y = stats.binom.mean(n = 21, p = 1/3)\n",
    "V_y = Y.var()       # V_y = stats.binom.var(n = 21, p = 1/3)\n",
    "S_y = Y.std()       # S_y = stats.binom.var(n = 21, p = 1/3)\n",
    "\n",
    "print(\"- Media: E(X) = {0:2f}\".format(E_y))\n",
    "print(\"- Varianza: Var(X) = {0:2f}\".format(V_y))\n",
    "print(\"- Desv. estandar: sd(X) = {0:2f}\".format(S_y))"
   ]
  }
 ],
 "metadata": {
  "kernelspec": {
   "display_name": "Python 3",
   "language": "python",
   "name": "python3"
  },
  "language_info": {
   "codemirror_mode": {
    "name": "ipython",
    "version": 3
   },
   "file_extension": ".py",
   "mimetype": "text/x-python",
   "name": "python",
   "nbconvert_exporter": "python",
   "pygments_lexer": "ipython3",
   "version": "3.9.13"
  },
  "vscode": {
   "interpreter": {
    "hash": "e06ff7da33dc9620448857a90ad8b5f428f0d573d205a934d2841c8aee45ea32"
   }
  }
 },
 "nbformat": 4,
 "nbformat_minor": 4
}
