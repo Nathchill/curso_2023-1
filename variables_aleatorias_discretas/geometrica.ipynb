{
 "cells": [
  {
   "attachments": {},
   "cell_type": "markdown",
   "metadata": {},
   "source": [
    "[![Open In Colab](https://colab.research.google.com/assets/colab-badge.svg)](https://colab.research.google.com/github/estocasticos-udem/curso_2023-1/blob/main/variables_aleatorias_discretas/geometrica.ipynb)"
   ]
  },
  {
   "cell_type": "code",
   "execution_count": 23,
   "metadata": {},
   "outputs": [],
   "source": [
    "import scipy.stats as stats\n",
    "import numpy as np\n",
    "import matplotlib.pyplot as plt\n",
    "import pandas as pd"
   ]
  },
  {
   "attachments": {},
   "cell_type": "markdown",
   "metadata": {},
   "source": [
    "# Distribución geometrica"
   ]
  },
  {
   "attachments": {},
   "cell_type": "markdown",
   "metadata": {},
   "source": [
    "## Ejemplo 1 - Juego del día del cumpleaños\n",
    "\n",
    "En una clase, su profesor planea darte 10 problemas como tarea. Sin embargo, desea negociar la tarea para la cual propone a sus estudiantes jugar el juego del cumpleaños, el cual funciona así:\n",
    "1. El profesor seleccionará un estudiante al azar de su clase y le pedirá a un estudiante elegido al azar, que adivine el día de la semana (por ejemplo, jueves) en el que nació uno de los amigos del profesor. \n",
    "2. Si el estudiante adivina correctamente, entonces la clase tendrá un solo problema de tarea. \n",
    "3. Si el estudiante adivina el día de la semana equivocado, el profesor volverá a seleccionar al azar a otro estudiante de la clase. El alumno elegido intentará adivinar el día de la semana en el que nació otro amigo del profesor. Si este estudiante lo hace bien, la clase tendrá dos problemas de tarea. \n",
    "4. El juego continúa hasta que un alumno acierta correctamente el día en que nació uno de los (muchos) amigos del profesor. \n",
    "\n",
    "Su maestro le asignará una cantidad de problemas de tarea que es igual a la cantidad total de conjeturas realizadas por los miembros de su clase. \n",
    "\n",
    "Este es un experimento geométrico, en el cual la VA $Y$ es el número de intentos para obtener hasta que se adivina correctamente el día que el amigo seleccionado por el profesor cumple años. De modo que $X \\sim Geom(p)$\n",
    "* $p = \\frac{1}{7}$\n",
    "* $p = 1 - p = 1- \\frac{1}{7} = \\frac{6}{7}$\n",
    "\n",
    "Inicialmente teniendo en cuenta esto, vamos a definir la variable aleatoria geometrica."
   ]
  },
  {
   "cell_type": "code",
   "execution_count": 24,
   "metadata": {},
   "outputs": [],
   "source": [
    "\"\"\"\n",
    "Definición de la VA binomial: Y ~ Geom(p)\n",
    "\n",
    "Y: Número de intentos para obtener hasta que se adivina correctamente el día que \n",
    "   el amigo seleccionado por el profesor cumple años\n",
    "\n",
    "Parametros:\n",
    "- p: 1/7\n",
    "- q: 6/7\n",
    "\"\"\"\n",
    "p = 1/7\n",
    "Y = stats.geom(p = 1/7)"
   ]
  },
  {
   "attachments": {},
   "cell_type": "markdown",
   "metadata": {},
   "source": [
    "Si se supone que el profesor tiene un total de 25 problemas por asignar a la clase.\n",
    "\n",
    "1. ¿Cuál es la probabilidad de que el primer estudiante adivine correctamente?\n",
    "   \n",
    "   Se nos pide $P(Y = 1)$:"
   ]
  },
  {
   "cell_type": "code",
   "execution_count": 25,
   "metadata": {},
   "outputs": [
    {
     "name": "stdout",
     "output_type": "stream",
     "text": [
      "P(Y=3) = 0.14286\n"
     ]
    }
   ],
   "source": [
    "# P(Y = 3)\n",
    "p_1 = Y.pmf(1)\n",
    "print(\"P(Y=3) = {0:0.5f}\".format(p_1))"
   ]
  },
  {
   "attachments": {},
   "cell_type": "markdown",
   "metadata": {},
   "source": [
    "2. ¿Cuál es la probabilidad de que le pongan a la clase dos problemas de tarea?\n",
    "\n",
    "   Se nos pide $P(Y = 2)$:"
   ]
  },
  {
   "cell_type": "code",
   "execution_count": 26,
   "metadata": {},
   "outputs": [
    {
     "name": "stdout",
     "output_type": "stream",
     "text": [
      "P(Y=2) = 0.12245\n"
     ]
    }
   ],
   "source": [
    "# P(Y = 2)\n",
    "p_2 = Y.pmf(2)\n",
    "print(\"P(Y=2) = {0:0.5f}\".format(p_2))"
   ]
  },
  {
   "attachments": {},
   "cell_type": "markdown",
   "metadata": {},
   "source": [
    "3. ¿Cuál es la probabilidad de que el tercer estudiante sea el que adivine?\n",
    "   \n",
    "    Se nos pide $P(Y = 3)$:"
   ]
  },
  {
   "cell_type": "code",
   "execution_count": 27,
   "metadata": {},
   "outputs": [
    {
     "name": "stdout",
     "output_type": "stream",
     "text": [
      "P(Y=3) = 0.10496\n"
     ]
    }
   ],
   "source": [
    "# P(Y = 3)\n",
    "p_3 = Y.pmf(3)\n",
    "print(\"P(Y=3) = {0:0.5f}\".format(p_3))"
   ]
  },
  {
   "attachments": {},
   "cell_type": "markdown",
   "metadata": {},
   "source": [
    "4. Encuentre la probabilidad de que la clase tenga que hacer como tarea 10 problemas.\n",
    "   \n",
    "   Se nos pide $P(Y = 10)$:"
   ]
  },
  {
   "cell_type": "code",
   "execution_count": 28,
   "metadata": {},
   "outputs": [
    {
     "name": "stdout",
     "output_type": "stream",
     "text": [
      "P(Y = 10) = 0.03568\n"
     ]
    }
   ],
   "source": [
    "# P(Y = 10)\n",
    "p_10 = Y.pmf(10)\n",
    "print(\"P(Y = 10) = {0:0.5f}\".format(p_10))"
   ]
  },
  {
   "attachments": {},
   "cell_type": "markdown",
   "metadata": {},
   "source": [
    "5. Encuentre $P(Y < 10)$ e interprete el valor en este contexto"
   ]
  },
  {
   "cell_type": "code",
   "execution_count": 29,
   "metadata": {},
   "outputs": [
    {
     "name": "stdout",
     "output_type": "stream",
     "text": [
      "Forma 1 -> P(Y < 10) = 0.75027\n",
      "Forma 1 -> P(Y < 10) = 0.75027\n"
     ]
    }
   ],
   "source": [
    "# Forma 1\n",
    "p_m10f1 = sum(Y.pmf(np.arange(10)))\n",
    "print(\"Forma 1 -> P(Y < 10) = {0:0.5f}\".format(p_m10f1))\n",
    "\n",
    "# Forma 2\n",
    "p_m10f2 = Y.cdf(9)\n",
    "print(\"Forma 1 -> P(Y < 10) = {0:0.5f}\".format(p_m10f2))"
   ]
  },
  {
   "attachments": {},
   "cell_type": "markdown",
   "metadata": {},
   "source": [
    "6. Obtenga la media, la varianza y la desviación estandar."
   ]
  },
  {
   "cell_type": "code",
   "execution_count": 30,
   "metadata": {},
   "outputs": [
    {
     "name": "stdout",
     "output_type": "stream",
     "text": [
      "- Media: E(X) = 7.000000\n",
      "- Varianza: Var(X) = 42.000000\n",
      "- Desv. estandar: sd(X) = 6.480741\n"
     ]
    }
   ],
   "source": [
    "[E,V] = Y.stats(moments='mv')  # E = Y.mean()      \n",
    "                               # V = Y.var()\n",
    "\n",
    "S = Y.std()      # V = stats.geom(p = 1/7)\n",
    "\n",
    "print(\"- Media: E(X) = {0:2f}\".format(E))\n",
    "print(\"- Varianza: Var(X) = {0:2f}\".format(V))\n",
    "print(\"- Desv. estandar: sd(X) = {0:2f}\".format(S))"
   ]
  },
  {
   "attachments": {},
   "cell_type": "markdown",
   "metadata": {},
   "source": [
    "7. Grafique la PFM"
   ]
  },
  {
   "cell_type": "code",
   "execution_count": 31,
   "metadata": {},
   "outputs": [
    {
     "data": {
      "text/html": [
       "<div>\n",
       "<style scoped>\n",
       "    .dataframe tbody tr th:only-of-type {\n",
       "        vertical-align: middle;\n",
       "    }\n",
       "\n",
       "    .dataframe tbody tr th {\n",
       "        vertical-align: top;\n",
       "    }\n",
       "\n",
       "    .dataframe thead th {\n",
       "        text-align: right;\n",
       "    }\n",
       "</style>\n",
       "<table border=\"1\" class=\"dataframe\">\n",
       "  <thead>\n",
       "    <tr style=\"text-align: right;\">\n",
       "      <th></th>\n",
       "      <th>y</th>\n",
       "      <th>pmf</th>\n",
       "    </tr>\n",
       "  </thead>\n",
       "  <tbody>\n",
       "    <tr>\n",
       "      <th>0</th>\n",
       "      <td>1</td>\n",
       "      <td>0.142857</td>\n",
       "    </tr>\n",
       "    <tr>\n",
       "      <th>1</th>\n",
       "      <td>2</td>\n",
       "      <td>0.122449</td>\n",
       "    </tr>\n",
       "    <tr>\n",
       "      <th>2</th>\n",
       "      <td>3</td>\n",
       "      <td>0.104956</td>\n",
       "    </tr>\n",
       "    <tr>\n",
       "      <th>3</th>\n",
       "      <td>4</td>\n",
       "      <td>0.089963</td>\n",
       "    </tr>\n",
       "    <tr>\n",
       "      <th>4</th>\n",
       "      <td>5</td>\n",
       "      <td>0.077111</td>\n",
       "    </tr>\n",
       "    <tr>\n",
       "      <th>5</th>\n",
       "      <td>6</td>\n",
       "      <td>0.066095</td>\n",
       "    </tr>\n",
       "    <tr>\n",
       "      <th>6</th>\n",
       "      <td>7</td>\n",
       "      <td>0.056653</td>\n",
       "    </tr>\n",
       "    <tr>\n",
       "      <th>7</th>\n",
       "      <td>8</td>\n",
       "      <td>0.048560</td>\n",
       "    </tr>\n",
       "    <tr>\n",
       "      <th>8</th>\n",
       "      <td>9</td>\n",
       "      <td>0.041622</td>\n",
       "    </tr>\n",
       "    <tr>\n",
       "      <th>9</th>\n",
       "      <td>10</td>\n",
       "      <td>0.035676</td>\n",
       "    </tr>\n",
       "    <tr>\n",
       "      <th>10</th>\n",
       "      <td>11</td>\n",
       "      <td>0.030580</td>\n",
       "    </tr>\n",
       "    <tr>\n",
       "      <th>11</th>\n",
       "      <td>12</td>\n",
       "      <td>0.026211</td>\n",
       "    </tr>\n",
       "    <tr>\n",
       "      <th>12</th>\n",
       "      <td>13</td>\n",
       "      <td>0.022467</td>\n",
       "    </tr>\n",
       "    <tr>\n",
       "      <th>13</th>\n",
       "      <td>14</td>\n",
       "      <td>0.019257</td>\n",
       "    </tr>\n",
       "    <tr>\n",
       "      <th>14</th>\n",
       "      <td>15</td>\n",
       "      <td>0.016506</td>\n",
       "    </tr>\n",
       "    <tr>\n",
       "      <th>15</th>\n",
       "      <td>16</td>\n",
       "      <td>0.014148</td>\n",
       "    </tr>\n",
       "    <tr>\n",
       "      <th>16</th>\n",
       "      <td>17</td>\n",
       "      <td>0.012127</td>\n",
       "    </tr>\n",
       "    <tr>\n",
       "      <th>17</th>\n",
       "      <td>18</td>\n",
       "      <td>0.010395</td>\n",
       "    </tr>\n",
       "    <tr>\n",
       "      <th>18</th>\n",
       "      <td>19</td>\n",
       "      <td>0.008910</td>\n",
       "    </tr>\n",
       "    <tr>\n",
       "      <th>19</th>\n",
       "      <td>20</td>\n",
       "      <td>0.007637</td>\n",
       "    </tr>\n",
       "    <tr>\n",
       "      <th>20</th>\n",
       "      <td>21</td>\n",
       "      <td>0.006546</td>\n",
       "    </tr>\n",
       "    <tr>\n",
       "      <th>21</th>\n",
       "      <td>22</td>\n",
       "      <td>0.005611</td>\n",
       "    </tr>\n",
       "    <tr>\n",
       "      <th>22</th>\n",
       "      <td>23</td>\n",
       "      <td>0.004809</td>\n",
       "    </tr>\n",
       "    <tr>\n",
       "      <th>23</th>\n",
       "      <td>24</td>\n",
       "      <td>0.004122</td>\n",
       "    </tr>\n",
       "    <tr>\n",
       "      <th>24</th>\n",
       "      <td>25</td>\n",
       "      <td>0.003533</td>\n",
       "    </tr>\n",
       "  </tbody>\n",
       "</table>\n",
       "</div>"
      ],
      "text/plain": [
       "     y       pmf\n",
       "0    1  0.142857\n",
       "1    2  0.122449\n",
       "2    3  0.104956\n",
       "3    4  0.089963\n",
       "4    5  0.077111\n",
       "5    6  0.066095\n",
       "6    7  0.056653\n",
       "7    8  0.048560\n",
       "8    9  0.041622\n",
       "9   10  0.035676\n",
       "10  11  0.030580\n",
       "11  12  0.026211\n",
       "12  13  0.022467\n",
       "13  14  0.019257\n",
       "14  15  0.016506\n",
       "15  16  0.014148\n",
       "16  17  0.012127\n",
       "17  18  0.010395\n",
       "18  19  0.008910\n",
       "19  20  0.007637\n",
       "20  21  0.006546\n",
       "21  22  0.005611\n",
       "22  23  0.004809\n",
       "23  24  0.004122\n",
       "24  25  0.003533"
      ]
     },
     "execution_count": 31,
     "metadata": {},
     "output_type": "execute_result"
    }
   ],
   "source": [
    "puntos = 25\n",
    "y = list(range(1,puntos + 1))\n",
    "pmf = Y.pmf(y)\n",
    "df = pd.DataFrame({\"y\": y,\"pmf\": pmf},columns=[\"y\",\"pmf\"])\n",
    "df"
   ]
  },
  {
   "cell_type": "code",
   "execution_count": 32,
   "metadata": {},
   "outputs": [
    {
     "data": {
      "text/plain": [
       "Text(0, 0.5, 'Probabilidad')"
      ]
     },
     "execution_count": 32,
     "metadata": {},
     "output_type": "execute_result"
    },
    {
     "data": {
      "image/png": "[encoded data removed]",
      "text/plain": [
       "<Figure size 640x480 with 1 Axes>"
      ]
     },
     "metadata": {},
     "output_type": "display_data"
    }
   ],
   "source": [
    "# Grafica\n",
    "plt.plot(y, pmf, 'gs', ms=10)\n",
    "plt.vlines(y, 0, pmf, colors='g', lw = 5, alpha=0.5)\n",
    "plt.xlabel(\"Numero de aciertos requerido\")\n",
    "plt.ylabel(\"Probabilidad\")"
   ]
  },
  {
   "cell_type": "markdown",
   "metadata": {},
   "source": [
    "7. Grafique la CDF"
   ]
  },
  {
   "cell_type": "code",
   "execution_count": 33,
   "metadata": {},
   "outputs": [
    {
     "data": {
      "text/html": [
       "<div>\n",
       "<style scoped>\n",
       "    .dataframe tbody tr th:only-of-type {\n",
       "        vertical-align: middle;\n",
       "    }\n",
       "\n",
       "    .dataframe tbody tr th {\n",
       "        vertical-align: top;\n",
       "    }\n",
       "\n",
       "    .dataframe thead th {\n",
       "        text-align: right;\n",
       "    }\n",
       "</style>\n",
       "<table border=\"1\" class=\"dataframe\">\n",
       "  <thead>\n",
       "    <tr style=\"text-align: right;\">\n",
       "      <th></th>\n",
       "      <th>y</th>\n",
       "      <th>cdf</th>\n",
       "    </tr>\n",
       "  </thead>\n",
       "  <tbody>\n",
       "    <tr>\n",
       "      <th>0</th>\n",
       "      <td>1</td>\n",
       "      <td>0.142857</td>\n",
       "    </tr>\n",
       "    <tr>\n",
       "      <th>1</th>\n",
       "      <td>2</td>\n",
       "      <td>0.265306</td>\n",
       "    </tr>\n",
       "    <tr>\n",
       "      <th>2</th>\n",
       "      <td>3</td>\n",
       "      <td>0.370262</td>\n",
       "    </tr>\n",
       "    <tr>\n",
       "      <th>3</th>\n",
       "      <td>4</td>\n",
       "      <td>0.460225</td>\n",
       "    </tr>\n",
       "    <tr>\n",
       "      <th>4</th>\n",
       "      <td>5</td>\n",
       "      <td>0.537336</td>\n",
       "    </tr>\n",
       "    <tr>\n",
       "      <th>5</th>\n",
       "      <td>6</td>\n",
       "      <td>0.603431</td>\n",
       "    </tr>\n",
       "    <tr>\n",
       "      <th>6</th>\n",
       "      <td>7</td>\n",
       "      <td>0.660083</td>\n",
       "    </tr>\n",
       "    <tr>\n",
       "      <th>7</th>\n",
       "      <td>8</td>\n",
       "      <td>0.708643</td>\n",
       "    </tr>\n",
       "    <tr>\n",
       "      <th>8</th>\n",
       "      <td>9</td>\n",
       "      <td>0.750265</td>\n",
       "    </tr>\n",
       "    <tr>\n",
       "      <th>9</th>\n",
       "      <td>10</td>\n",
       "      <td>0.785942</td>\n",
       "    </tr>\n",
       "    <tr>\n",
       "      <th>10</th>\n",
       "      <td>11</td>\n",
       "      <td>0.816521</td>\n",
       "    </tr>\n",
       "    <tr>\n",
       "      <th>11</th>\n",
       "      <td>12</td>\n",
       "      <td>0.842733</td>\n",
       "    </tr>\n",
       "    <tr>\n",
       "      <th>12</th>\n",
       "      <td>13</td>\n",
       "      <td>0.865199</td>\n",
       "    </tr>\n",
       "    <tr>\n",
       "      <th>13</th>\n",
       "      <td>14</td>\n",
       "      <td>0.884457</td>\n",
       "    </tr>\n",
       "    <tr>\n",
       "      <th>14</th>\n",
       "      <td>15</td>\n",
       "      <td>0.900963</td>\n",
       "    </tr>\n",
       "    <tr>\n",
       "      <th>15</th>\n",
       "      <td>16</td>\n",
       "      <td>0.915111</td>\n",
       "    </tr>\n",
       "    <tr>\n",
       "      <th>16</th>\n",
       "      <td>17</td>\n",
       "      <td>0.927238</td>\n",
       "    </tr>\n",
       "    <tr>\n",
       "      <th>17</th>\n",
       "      <td>18</td>\n",
       "      <td>0.937633</td>\n",
       "    </tr>\n",
       "    <tr>\n",
       "      <th>18</th>\n",
       "      <td>19</td>\n",
       "      <td>0.946542</td>\n",
       "    </tr>\n",
       "    <tr>\n",
       "      <th>19</th>\n",
       "      <td>20</td>\n",
       "      <td>0.954179</td>\n",
       "    </tr>\n",
       "    <tr>\n",
       "      <th>20</th>\n",
       "      <td>21</td>\n",
       "      <td>0.960725</td>\n",
       "    </tr>\n",
       "    <tr>\n",
       "      <th>21</th>\n",
       "      <td>22</td>\n",
       "      <td>0.966336</td>\n",
       "    </tr>\n",
       "    <tr>\n",
       "      <th>22</th>\n",
       "      <td>23</td>\n",
       "      <td>0.971145</td>\n",
       "    </tr>\n",
       "    <tr>\n",
       "      <th>23</th>\n",
       "      <td>24</td>\n",
       "      <td>0.975267</td>\n",
       "    </tr>\n",
       "    <tr>\n",
       "      <th>24</th>\n",
       "      <td>25</td>\n",
       "      <td>0.978800</td>\n",
       "    </tr>\n",
       "  </tbody>\n",
       "</table>\n",
       "</div>"
      ],
      "text/plain": [
       "     y       cdf\n",
       "0    1  0.142857\n",
       "1    2  0.265306\n",
       "2    3  0.370262\n",
       "3    4  0.460225\n",
       "4    5  0.537336\n",
       "5    6  0.603431\n",
       "6    7  0.660083\n",
       "7    8  0.708643\n",
       "8    9  0.750265\n",
       "9   10  0.785942\n",
       "10  11  0.816521\n",
       "11  12  0.842733\n",
       "12  13  0.865199\n",
       "13  14  0.884457\n",
       "14  15  0.900963\n",
       "15  16  0.915111\n",
       "16  17  0.927238\n",
       "17  18  0.937633\n",
       "18  19  0.946542\n",
       "19  20  0.954179\n",
       "20  21  0.960725\n",
       "21  22  0.966336\n",
       "22  23  0.971145\n",
       "23  24  0.975267\n",
       "24  25  0.978800"
      ]
     },
     "execution_count": 33,
     "metadata": {},
     "output_type": "execute_result"
    }
   ],
   "source": [
    "puntos = 25\n",
    "y = list(range(1,puntos + 1))\n",
    "cdf = Y.cdf(y)\n",
    "df2 = pd.DataFrame({\"y\": y,\"cdf\": cdf},columns=[\"y\",\"cdf\"])\n",
    "df2"
   ]
  },
  {
   "cell_type": "code",
   "execution_count": 34,
   "metadata": {},
   "outputs": [
    {
     "data": {
      "text/plain": [
       "Text(0, 0.5, 'CFD')"
      ]
     },
     "execution_count": 34,
     "metadata": {},
     "output_type": "execute_result"
    },
    {
     "data": {
      "image/png": "[encoded data removed]",
      "text/plain": [
       "<Figure size 640x480 with 1 Axes>"
      ]
     },
     "metadata": {},
     "output_type": "display_data"
    }
   ],
   "source": [
    "# Grafica\n",
    "plt.plot(y, cdf, 'bs', ms=10)\n",
    "plt.vlines(y, 0, cdf, colors='b', lw = 5, alpha=0.5)\n",
    "plt.xlabel(\"Numero de aciertos requerido\")\n",
    "plt.ylabel(\"CFD\")"
   ]
  }
 ],
 "metadata": {
  "kernelspec": {
   "display_name": "Python 3",
   "language": "python",
   "name": "python3"
  },
  "language_info": {
   "codemirror_mode": {
    "name": "ipython",
    "version": 3
   },
   "file_extension": ".py",
   "mimetype": "text/x-python",
   "name": "python",
   "nbconvert_exporter": "python",
   "pygments_lexer": "ipython3",
   "version": "3.9.13"
  },
  "vscode": {
   "interpreter": {
    "hash": "e06ff7da33dc9620448857a90ad8b5f428f0d573d205a934d2841c8aee45ea32"
   }
  }
 },
 "nbformat": 4,
 "nbformat_minor": 4
}
