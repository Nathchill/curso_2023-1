{
 "cells": [
  {
   "attachments": {},
   "cell_type": "markdown",
   "metadata": {},
   "source": [
    "[![Open In Colab](https://colab.research.google.com/assets/colab-badge.svg)](https://colab.research.google.com/github/estocasticos-udem/curso_2023-1/blob/main/variables_aleatorias_discretas/poisson.ipynb)"
   ]
  },
  {
   "cell_type": "code",
   "execution_count": 29,
   "metadata": {},
   "outputs": [],
   "source": [
    "import scipy.stats as stats\n",
    "import numpy as np\n",
    "import matplotlib.pyplot as plt\n",
    "import pandas as pd"
   ]
  },
  {
   "attachments": {},
   "cell_type": "markdown",
   "metadata": {},
   "source": [
    "# Distribución de Poisson"
   ]
  },
  {
   "attachments": {},
   "cell_type": "markdown",
   "metadata": {},
   "source": [
    "## Ejemplo 1\n",
    "\n",
    "El número promedio de panes colocados en un estante de una panadería en un periodo de media hora es de 12. Es interesante el número de panes que se ponen en la estantería en cinco minutos. El intervalo de tiempo de interés es de cinco minutos. ¿Cuál es la probabilidad de que el número de panes, seleccionados al azar, puestos en la estantería en cinco minutos sea tres?\n",
    "\n",
    "**Solución**\n",
    " \n",
    "Como este experimento es tipo Poisson, si definimos la VA $X = \\textrm{el\\,número\\,de\\,panes\\,puestos\\,en\\,la\\,estantería\\,en\\,cinco\\,minutos}$. Ademas, de acuerdo al enunciado del intervalo de interes tenemos que este es de 5 min. Para hallar la media $\\alpha = \\lambda T$ en el intervalo de interes tenemos:\n",
    "* **Numero de eventos en un intervalo de tiempo dado**: $\\lambda = \\frac{12\\,\\textrm{panes}}{30\\,\\textrm{min}}$\n",
    "* **Intervalo de interes**: $T = 5\\,\\textrm{min}$\n",
    "\n",
    "Luego: \n",
    "\n",
    "$$\n",
    "\\alpha = \\lambda \\times  T = \\frac{12\\,\\textrm{panes}}{30\\,\\textrm{min}} \\times 5\\,\\textrm{min} = 2\\,\\textrm{panes}\n",
    "$$\n",
    "\n",
    "De modo que $X \\sim Poisson(\\alpha)$ con $\\alpha = 2$"
   ]
  },
  {
   "attachments": {},
   "cell_type": "markdown",
   "metadata": {},
   "source": [
    "Para encontrar la distribución de probabilidad pedida $P(X = 3)$ tenemos:"
   ]
  },
  {
   "cell_type": "code",
   "execution_count": 30,
   "metadata": {},
   "outputs": [
    {
     "name": "stdout",
     "output_type": "stream",
     "text": [
      "P(X=3) = 0.180447\n"
     ]
    }
   ],
   "source": [
    "\"\"\"\n",
    "Definición de la VA Poisson: X ~ Poisson(alpha)\n",
    "\n",
    "X: número de panes puestos en la estantería en cinco minutos\n",
    "\n",
    "# Parametros\n",
    "a = 5 (alpha)\n",
    "\"\"\"\n",
    "\n",
    "l = 12/30\n",
    "T = 5\n",
    "a = l*T\n",
    "\n",
    "X = stats.poisson(mu = a) # Variable aleatoria hipergeometrica\n",
    "\n",
    "# P(X=3)\n",
    "P3 = X.pmf(k = 3)\n",
    "print(\"P(X=3) = {0:2f}\".format(P3))"
   ]
  },
  {
   "attachments": {},
   "cell_type": "markdown",
   "metadata": {},
   "source": [
    "## Ejemplo 2\n",
    "\n",
    "Un banco espera recibir seis cheques sin fondos al día, en promedio. ¿Cuál es la probabilidad de que el banco reciba menos de cinco cheques sin fondos en un día determinado? \n",
    "\n",
    "**Solución**\n",
    " \n",
    "Como este experimento es tipo Poisson donde:\n",
    "* **VA**: $X = \\textrm{el\\,número\\,de\\,cheques\\,sin\\,fondos\\,que\\,recibe\\,el\\,banco\\,en\\,un\\,día}$. \n",
    "* **Intervalo de interes**: $T = 1\\,\\textrm{dia}$\n",
    "* **Numero de eventos en un intervalo de tiempo dado**: $\\lambda = \\frac{6\\,\\textrm{cheques\\,sin\\,fondos}}{1\\,\\textrm{dia}}$\n",
    "  \n",
    "Luego: \n",
    "\n",
    "$$\n",
    "\\alpha = \\lambda \\times T = \\frac{6\\,\\textrm{cheques\\,sin\\,fondos}}{1\\,\\textrm{dia}} \\times 1\\,\\textrm{dia} = 6\\,\\textrm{cheques\\,sin\\,fondos}\n",
    "$$\n",
    "\n",
    "De modo que $X \\sim Poisson(\\alpha)$ con $\\alpha = 6$"
   ]
  },
  {
   "attachments": {},
   "cell_type": "markdown",
   "metadata": {},
   "source": [
    "En el enunciado nos piden $P(x<5)$, procedamos a realizar el calculo:"
   ]
  },
  {
   "cell_type": "code",
   "execution_count": 31,
   "metadata": {},
   "outputs": [
    {
     "name": "stdout",
     "output_type": "stream",
     "text": [
      "P(X < 5) = P(X <= 4) = 0.285057\n"
     ]
    }
   ],
   "source": [
    "\"\"\"\n",
    "Definición de la VA Poison: X ~ Poisson(alpha)\n",
    "\n",
    "X: número de cheques sin fondos que recibe el banco en un día\n",
    "\n",
    "# Parametros\n",
    "a = 6 (alpha)\n",
    "\"\"\"\n",
    "\n",
    "l = 6/1\n",
    "T = 1\n",
    "a = l*T\n",
    "\n",
    "X = stats.poisson(mu = a) # Variable aleatoria hipergeometrica\n",
    "\n",
    "# P(X < 5) = P(X <= 4)\n",
    "P_lt_5 = X.cdf(x = 4)\n",
    "print(\"P(X < 5) = P(X <= 4) = {0:2f}\".format(P_lt_5))"
   ]
  },
  {
   "attachments": {},
   "cell_type": "markdown",
   "metadata": {},
   "source": [
    "## Ejemplo 3\n",
    "\n",
    "Se da cuenta de que un reportero de noticias dice \"uh”, en promedio, dos veces por emisión. ¿Cuál es la probabilidad de que el periodista diga \"uh\" más de dos veces por emisión?\n",
    "\n",
    "Se trata de un problema de Poisson porque le interesa saber el número de veces que el reportero de las noticias dice “uh” durante una emisión.\n",
    "* ¿Cuál es el intervalo de interés?\n",
    "\n",
    "  **Respuesta**: una emisión ($T = 1\\,\\textrm{emisión}$)   \n",
    "\n",
    "* ¿Cuál es el número promedio de veces que el reportero de noticias dice \"uh\" durante una emisión?\n",
    "  \n",
    "  **Respuesta**: $\\lambda = \\frac{2\\,\\textrm{uh}}{1\\,\\textrm{emision}}$   \n",
    "\n",
    "* Supongamos que $X = \\textrm{el\\,número\\,de\\,veces\\,que\\,el\\,reportero\\,de\\,noticias\\,dice\\,``uh\"\\,durante\\,una\\,emisión}$. ¿Qué valores toma X?\n",
    "  \n",
    "  $$x = S_X = \\{0, 1, 2, 3,...\\}$$\n",
    "\n",
    "* La pregunta de probabilidad es $P(X > 2)$."
   ]
  },
  {
   "cell_type": "code",
   "execution_count": 32,
   "metadata": {},
   "outputs": [
    {
     "name": "stdout",
     "output_type": "stream",
     "text": [
      "P(X > 2) = 1 - P(X < 2) = 1 - P(X <= 1) = 0.593994\n"
     ]
    }
   ],
   "source": [
    "\"\"\"\n",
    "Definición de la VA Poison: X ~ Poisson(alpha)\n",
    "\n",
    "X: el número de veces que el reportero de noticias dice \"uh\" durante una emisión\n",
    "\n",
    "# Parametros\n",
    "a = 6 (alpha)\n",
    "\"\"\"\n",
    "\n",
    "l = 2/1\n",
    "T = 1\n",
    "a = l*T\n",
    "\n",
    "X = stats.poisson(mu = a) # Variable aleatoria hipergeometrica\n",
    "\n",
    "# P(X > 2) = 1 - P(X < 2) = 1 - P(X <= 1)\n",
    "P_gt_2 = 1 - X.cdf(x = 1)\n",
    "print(\"P(X > 2) = 1 - P(X < 2) = 1 - P(X <= 1) = {0:2f}\".format(P_gt_2))"
   ]
  },
  {
   "attachments": {},
   "cell_type": "markdown",
   "metadata": {},
   "source": [
    "## Ejemplo 4\n",
    "\n",
    "El contestador automático de Homero recibe unas seis llamadas telefónicas entre las 8 y las 10 a. m. ¿Cuál es la probabilidad de que Homero reciba más de una llamada durante los próximos 15 minutos?\n",
    "\n",
    "**Solución**\n",
    " \n",
    "Como este experimento es tipo Poisson donde:\n",
    "* **VA**: $X = \\textrm{el\\,número\\,de\\,llamadas\\,que\\,recibe\\,Homero\\,durante\\,15\\,minutos}$. \n",
    "* **Intervalo de interes**: $T = 15\\,\\textrm{minutos}$\n",
    "* **Numero de eventos en un intervalo de tiempo dado**: $\\lambda = \\frac{6\\,\\textrm{llamadas}}{120\\,\\textrm{minutos}}$\n",
    "  \n",
    "Luego: \n",
    "\n",
    "$$\n",
    "\\alpha = \\lambda \\times T = \\frac{6\\,\\textrm{llamadas}}{120\\,\\textrm{minutos}} \\times 15\\,\\textrm{minutos} = 0.75\\,\\,\\textrm{llamadas}\n",
    "$$\n",
    "\n",
    "De modo que $X \\sim Poisson(\\alpha)$ con $\\alpha = 6$\n",
    "\n",
    "Además, los valore de la VA son:\n",
    "\n",
    "$$x=S_X=\\{0,1,2,3,..\\}$$"
   ]
  },
  {
   "cell_type": "code",
   "execution_count": 33,
   "metadata": {},
   "outputs": [],
   "source": [
    "\"\"\"\n",
    "Definición de la VA Poison: X ~ Poisson(alpha)\n",
    "\n",
    "X = el número de llamadas que recibe Homero durante 15 minutos\n",
    "\n",
    "# Parametros\n",
    "a = 6 (alpha)\n",
    "\"\"\"\n",
    "\n",
    "l = 6/120\n",
    "T = 15\n",
    "a = l*T\n",
    "\n",
    "X = stats.poisson(mu = a) # Variable aleatoria hipergeometrica"
   ]
  },
  {
   "attachments": {},
   "cell_type": "markdown",
   "metadata": {},
   "source": [
    "* ¿Cuál es la probabilidad de que Homero reciba más de una llamada durante los próximos 15 minutos?"
   ]
  },
  {
   "cell_type": "code",
   "execution_count": 34,
   "metadata": {},
   "outputs": [
    {
     "name": "stdout",
     "output_type": "stream",
     "text": [
      "P(X > 1) = 1 - P(X < 2) = 1 - P(X <= 1) = 0.1734\n"
     ]
    }
   ],
   "source": [
    "# P(X > 1) = 1 - P(X < 2) = 1 - P(X <= 1)\n",
    "P_gt_1 = 1 - X.cdf(x = 1)\n",
    "print(\"P(X > 1) = 1 - P(X < 2) = 1 - P(X <= 1) = {0:.4f}\".format(P_gt_1))"
   ]
  },
  {
   "attachments": {},
   "cell_type": "markdown",
   "metadata": {},
   "source": [
    "* PMF"
   ]
  },
  {
   "cell_type": "code",
   "execution_count": 35,
   "metadata": {},
   "outputs": [
    {
     "data": {
      "text/html": [
       "<div>\n",
       "<style scoped>\n",
       "    .dataframe tbody tr th:only-of-type {\n",
       "        vertical-align: middle;\n",
       "    }\n",
       "\n",
       "    .dataframe tbody tr th {\n",
       "        vertical-align: top;\n",
       "    }\n",
       "\n",
       "    .dataframe thead th {\n",
       "        text-align: right;\n",
       "    }\n",
       "</style>\n",
       "<table border=\"1\" class=\"dataframe\">\n",
       "  <thead>\n",
       "    <tr style=\"text-align: right;\">\n",
       "      <th></th>\n",
       "      <th>Llamadas</th>\n",
       "      <th>Probabilidad</th>\n",
       "    </tr>\n",
       "  </thead>\n",
       "  <tbody>\n",
       "    <tr>\n",
       "      <th>0</th>\n",
       "      <td>0</td>\n",
       "      <td>4.723666e-01</td>\n",
       "    </tr>\n",
       "    <tr>\n",
       "      <th>1</th>\n",
       "      <td>1</td>\n",
       "      <td>3.542749e-01</td>\n",
       "    </tr>\n",
       "    <tr>\n",
       "      <th>2</th>\n",
       "      <td>2</td>\n",
       "      <td>1.328531e-01</td>\n",
       "    </tr>\n",
       "    <tr>\n",
       "      <th>3</th>\n",
       "      <td>3</td>\n",
       "      <td>3.321327e-02</td>\n",
       "    </tr>\n",
       "    <tr>\n",
       "      <th>4</th>\n",
       "      <td>4</td>\n",
       "      <td>6.227489e-03</td>\n",
       "    </tr>\n",
       "    <tr>\n",
       "      <th>5</th>\n",
       "      <td>5</td>\n",
       "      <td>9.341233e-04</td>\n",
       "    </tr>\n",
       "    <tr>\n",
       "      <th>6</th>\n",
       "      <td>6</td>\n",
       "      <td>1.167654e-04</td>\n",
       "    </tr>\n",
       "    <tr>\n",
       "      <th>7</th>\n",
       "      <td>7</td>\n",
       "      <td>1.251058e-05</td>\n",
       "    </tr>\n",
       "    <tr>\n",
       "      <th>8</th>\n",
       "      <td>8</td>\n",
       "      <td>1.172867e-06</td>\n",
       "    </tr>\n",
       "    <tr>\n",
       "      <th>9</th>\n",
       "      <td>9</td>\n",
       "      <td>9.773891e-08</td>\n",
       "    </tr>\n",
       "    <tr>\n",
       "      <th>10</th>\n",
       "      <td>10</td>\n",
       "      <td>7.330418e-09</td>\n",
       "    </tr>\n",
       "    <tr>\n",
       "      <th>11</th>\n",
       "      <td>11</td>\n",
       "      <td>4.998012e-10</td>\n",
       "    </tr>\n",
       "    <tr>\n",
       "      <th>12</th>\n",
       "      <td>12</td>\n",
       "      <td>3.123758e-11</td>\n",
       "    </tr>\n",
       "    <tr>\n",
       "      <th>13</th>\n",
       "      <td>13</td>\n",
       "      <td>1.802168e-12</td>\n",
       "    </tr>\n",
       "    <tr>\n",
       "      <th>14</th>\n",
       "      <td>14</td>\n",
       "      <td>9.654471e-14</td>\n",
       "    </tr>\n",
       "    <tr>\n",
       "      <th>15</th>\n",
       "      <td>15</td>\n",
       "      <td>4.827235e-15</td>\n",
       "    </tr>\n",
       "  </tbody>\n",
       "</table>\n",
       "</div>"
      ],
      "text/plain": [
       "    Llamadas  Probabilidad\n",
       "0          0  4.723666e-01\n",
       "1          1  3.542749e-01\n",
       "2          2  1.328531e-01\n",
       "3          3  3.321327e-02\n",
       "4          4  6.227489e-03\n",
       "5          5  9.341233e-04\n",
       "6          6  1.167654e-04\n",
       "7          7  1.251058e-05\n",
       "8          8  1.172867e-06\n",
       "9          9  9.773891e-08\n",
       "10        10  7.330418e-09\n",
       "11        11  4.998012e-10\n",
       "12        12  3.123758e-11\n",
       "13        13  1.802168e-12\n",
       "14        14  9.654471e-14\n",
       "15        15  4.827235e-15"
      ]
     },
     "execution_count": 35,
     "metadata": {},
     "output_type": "execute_result"
    }
   ],
   "source": [
    "x = np.arange(0,16)\n",
    "PFM = X.pmf(k = x)\n",
    "# Dataframe\n",
    "data = {\n",
    "  \"Llamadas\": x,\n",
    "  \"Probabilidad\": PFM\n",
    "}\n",
    "df = pd.DataFrame(data)\n",
    "df"
   ]
  },
  {
   "cell_type": "code",
   "execution_count": 36,
   "metadata": {},
   "outputs": [
    {
     "data": {
      "text/plain": [
       "Text(0, 0.5, 'Probabilidad')"
      ]
     },
     "execution_count": 36,
     "metadata": {},
     "output_type": "execute_result"
    },
    {
     "data": {
      "image/png": "[encoded data removed]",
      "text/plain": [
       "<Figure size 640x480 with 1 Axes>"
      ]
     },
     "metadata": {},
     "output_type": "display_data"
    }
   ],
   "source": [
    "# Grafica de la PMF\n",
    "plt.plot(x, PFM, 'bs', ms=10)\n",
    "plt.vlines(x, 0, PFM, colors='b', lw = 5, alpha=0.5)\n",
    "plt.xlabel(\"Numero de botellas de vino binagre\")\n",
    "plt.ylabel(\"Probabilidad\")"
   ]
  },
  {
   "attachments": {},
   "cell_type": "markdown",
   "metadata": {},
   "source": [
    "* CDF"
   ]
  },
  {
   "cell_type": "code",
   "execution_count": 37,
   "metadata": {},
   "outputs": [
    {
     "data": {
      "text/html": [
       "<div>\n",
       "<style scoped>\n",
       "    .dataframe tbody tr th:only-of-type {\n",
       "        vertical-align: middle;\n",
       "    }\n",
       "\n",
       "    .dataframe tbody tr th {\n",
       "        vertical-align: top;\n",
       "    }\n",
       "\n",
       "    .dataframe thead th {\n",
       "        text-align: right;\n",
       "    }\n",
       "</style>\n",
       "<table border=\"1\" class=\"dataframe\">\n",
       "  <thead>\n",
       "    <tr style=\"text-align: right;\">\n",
       "      <th></th>\n",
       "      <th>Llamadas</th>\n",
       "      <th>Probabilidad Acumulada</th>\n",
       "    </tr>\n",
       "  </thead>\n",
       "  <tbody>\n",
       "    <tr>\n",
       "      <th>0</th>\n",
       "      <td>0</td>\n",
       "      <td>0.472367</td>\n",
       "    </tr>\n",
       "    <tr>\n",
       "      <th>1</th>\n",
       "      <td>1</td>\n",
       "      <td>0.826641</td>\n",
       "    </tr>\n",
       "    <tr>\n",
       "      <th>2</th>\n",
       "      <td>2</td>\n",
       "      <td>0.959495</td>\n",
       "    </tr>\n",
       "    <tr>\n",
       "      <th>3</th>\n",
       "      <td>3</td>\n",
       "      <td>0.992708</td>\n",
       "    </tr>\n",
       "    <tr>\n",
       "      <th>4</th>\n",
       "      <td>4</td>\n",
       "      <td>0.998935</td>\n",
       "    </tr>\n",
       "    <tr>\n",
       "      <th>5</th>\n",
       "      <td>5</td>\n",
       "      <td>0.999869</td>\n",
       "    </tr>\n",
       "    <tr>\n",
       "      <th>6</th>\n",
       "      <td>6</td>\n",
       "      <td>0.999986</td>\n",
       "    </tr>\n",
       "    <tr>\n",
       "      <th>7</th>\n",
       "      <td>7</td>\n",
       "      <td>0.999999</td>\n",
       "    </tr>\n",
       "    <tr>\n",
       "      <th>8</th>\n",
       "      <td>8</td>\n",
       "      <td>1.000000</td>\n",
       "    </tr>\n",
       "    <tr>\n",
       "      <th>9</th>\n",
       "      <td>9</td>\n",
       "      <td>1.000000</td>\n",
       "    </tr>\n",
       "    <tr>\n",
       "      <th>10</th>\n",
       "      <td>10</td>\n",
       "      <td>1.000000</td>\n",
       "    </tr>\n",
       "    <tr>\n",
       "      <th>11</th>\n",
       "      <td>11</td>\n",
       "      <td>1.000000</td>\n",
       "    </tr>\n",
       "    <tr>\n",
       "      <th>12</th>\n",
       "      <td>12</td>\n",
       "      <td>1.000000</td>\n",
       "    </tr>\n",
       "    <tr>\n",
       "      <th>13</th>\n",
       "      <td>13</td>\n",
       "      <td>1.000000</td>\n",
       "    </tr>\n",
       "    <tr>\n",
       "      <th>14</th>\n",
       "      <td>14</td>\n",
       "      <td>1.000000</td>\n",
       "    </tr>\n",
       "    <tr>\n",
       "      <th>15</th>\n",
       "      <td>15</td>\n",
       "      <td>1.000000</td>\n",
       "    </tr>\n",
       "  </tbody>\n",
       "</table>\n",
       "</div>"
      ],
      "text/plain": [
       "    Llamadas  Probabilidad Acumulada\n",
       "0          0                0.472367\n",
       "1          1                0.826641\n",
       "2          2                0.959495\n",
       "3          3                0.992708\n",
       "4          4                0.998935\n",
       "5          5                0.999869\n",
       "6          6                0.999986\n",
       "7          7                0.999999\n",
       "8          8                1.000000\n",
       "9          9                1.000000\n",
       "10        10                1.000000\n",
       "11        11                1.000000\n",
       "12        12                1.000000\n",
       "13        13                1.000000\n",
       "14        14                1.000000\n",
       "15        15                1.000000"
      ]
     },
     "execution_count": 37,
     "metadata": {},
     "output_type": "execute_result"
    }
   ],
   "source": [
    "CDF = X.cdf(x = x)\n",
    "# Dataframe\n",
    "data_cdf = {\n",
    "  \"Llamadas\": x,\n",
    "  \"Probabilidad Acumulada\": CDF\n",
    "}\n",
    "df_cdf = pd.DataFrame(data_cdf)\n",
    "df_cdf"
   ]
  },
  {
   "cell_type": "code",
   "execution_count": 38,
   "metadata": {},
   "outputs": [
    {
     "data": {
      "text/plain": [
       "Text(0, 0.5, 'Probabilidad acumulada')"
      ]
     },
     "execution_count": 38,
     "metadata": {},
     "output_type": "execute_result"
    },
    {
     "data": {
      "image/png": "[encoded data removed]",
      "text/plain": [
       "<Figure size 640x480 with 1 Axes>"
      ]
     },
     "metadata": {},
     "output_type": "display_data"
    }
   ],
   "source": [
    "# Grafica de la PMF\n",
    "plt.plot(x, CDF, 'rs', ms=10)\n",
    "plt.vlines(x, 0, CDF, colors='r', lw = 5, alpha=0.5)\n",
    "plt.xlabel(\"Numero de llamadas\")\n",
    "plt.ylabel(\"Probabilidad acumulada\")"
   ]
  },
  {
   "attachments": {},
   "cell_type": "markdown",
   "metadata": {},
   "source": [
    "## Ejemplo 5\n",
    "\n",
    "Los usuarios de mensajes de texto reciben o envían un promedio de 41.5 mensajes de texto al día.\n",
    "* ¿Cuántos mensajes de texto recibe o envía un usuario por hora? \n",
    "* ¿Cuál es la probabilidad de que un usuario de mensajes de texto reciba o envíe dos mensajes por hora? \n",
    "* ¿Cuál es la probabilidad de que un usuario de mensajes de texto reciba o envíe más de dos mensajes por hora? \n",
    "\n",
    "**Solución**\n",
    " \n",
    "Como este experimento es tipo Poisson donde:\n",
    "* **VA**: $Y = \\textrm{el\\,número\\,de\\,mensajes\\,de\\,texto\\,que\\,recibe\\,un\\,usuario\\,durante\\,una,hora}$. \n",
    "* **Intervalo de interes**:  $T=1\\,\\textrm{hora}$\n",
    "* **Numero de eventos en un intervalo de tiempo dado**: $\\lambda = \\frac{41.5\\,\\textrm{mensajes}}{24\\,\\textrm{horas}}$\n",
    "\n",
    "Además, los valore de la VA son:\n",
    "\n",
    "$$y=S_Y=\\{0,1,2,3,..\\}$$"
   ]
  },
  {
   "attachments": {},
   "cell_type": "markdown",
   "metadata": {},
   "source": [
    "* ¿Cuántos mensajes de texto recibe o envía un usuario por hora? \n",
    "\n",
    "Aqui:\n",
    "\n",
    "$$\n",
    "\\alpha = \\lambda \\times T = \\frac{41.5\\,\\textrm{mensajes}}{24\\,\\textrm{horas}} \\times 1\\,\\textrm{hora} = 1.7292\\,\\textrm{mensajes}\n",
    "$$\n",
    "\n",
    "De modo que $Y \\sim Poisson(\\alpha)$ con $\\alpha = 1.7292$"
   ]
  },
  {
   "cell_type": "code",
   "execution_count": 39,
   "metadata": {},
   "outputs": [],
   "source": [
    "\"\"\"\n",
    "Definición de la VA Poison: T1 ~ Poisson(alpha)\n",
    "\n",
    "X = munero de mensajes de texto recibe o envía un usuario durante un dia\n",
    "\n",
    "# Parametros\n",
    "a = 1.7292 (alpha)\n",
    "\"\"\"\n",
    "\n",
    "l = 41.5/24\n",
    "T = 1\n",
    "a = l*T\n",
    "\n",
    "Y = stats.poisson(mu = a) # Variable aleatoria Poisson"
   ]
  },
  {
   "cell_type": "code",
   "execution_count": 40,
   "metadata": {},
   "outputs": [
    {
     "data": {
      "text/html": [
       "<div>\n",
       "<style scoped>\n",
       "    .dataframe tbody tr th:only-of-type {\n",
       "        vertical-align: middle;\n",
       "    }\n",
       "\n",
       "    .dataframe tbody tr th {\n",
       "        vertical-align: top;\n",
       "    }\n",
       "\n",
       "    .dataframe thead th {\n",
       "        text-align: right;\n",
       "    }\n",
       "</style>\n",
       "<table border=\"1\" class=\"dataframe\">\n",
       "  <thead>\n",
       "    <tr style=\"text-align: right;\">\n",
       "      <th></th>\n",
       "      <th>Llamadas</th>\n",
       "      <th>Probabilidad</th>\n",
       "      <th>Probabilidad acumulada</th>\n",
       "    </tr>\n",
       "  </thead>\n",
       "  <tbody>\n",
       "    <tr>\n",
       "      <th>0</th>\n",
       "      <td>0</td>\n",
       "      <td>0.177432</td>\n",
       "      <td>0.177432</td>\n",
       "    </tr>\n",
       "    <tr>\n",
       "      <th>1</th>\n",
       "      <td>1</td>\n",
       "      <td>0.306810</td>\n",
       "      <td>0.484242</td>\n",
       "    </tr>\n",
       "    <tr>\n",
       "      <th>2</th>\n",
       "      <td>2</td>\n",
       "      <td>0.265263</td>\n",
       "      <td>0.749505</td>\n",
       "    </tr>\n",
       "    <tr>\n",
       "      <th>3</th>\n",
       "      <td>3</td>\n",
       "      <td>0.152894</td>\n",
       "      <td>0.902399</td>\n",
       "    </tr>\n",
       "    <tr>\n",
       "      <th>4</th>\n",
       "      <td>4</td>\n",
       "      <td>0.066095</td>\n",
       "      <td>0.968494</td>\n",
       "    </tr>\n",
       "    <tr>\n",
       "      <th>5</th>\n",
       "      <td>5</td>\n",
       "      <td>0.022858</td>\n",
       "      <td>0.991352</td>\n",
       "    </tr>\n",
       "    <tr>\n",
       "      <th>6</th>\n",
       "      <td>6</td>\n",
       "      <td>0.006588</td>\n",
       "      <td>0.997940</td>\n",
       "    </tr>\n",
       "    <tr>\n",
       "      <th>7</th>\n",
       "      <td>7</td>\n",
       "      <td>0.001627</td>\n",
       "      <td>0.999567</td>\n",
       "    </tr>\n",
       "    <tr>\n",
       "      <th>8</th>\n",
       "      <td>8</td>\n",
       "      <td>0.000352</td>\n",
       "      <td>0.999919</td>\n",
       "    </tr>\n",
       "    <tr>\n",
       "      <th>9</th>\n",
       "      <td>9</td>\n",
       "      <td>0.000068</td>\n",
       "      <td>0.999986</td>\n",
       "    </tr>\n",
       "  </tbody>\n",
       "</table>\n",
       "</div>"
      ],
      "text/plain": [
       "   Llamadas  Probabilidad  Probabilidad acumulada\n",
       "0         0      0.177432                0.177432\n",
       "1         1      0.306810                0.484242\n",
       "2         2      0.265263                0.749505\n",
       "3         3      0.152894                0.902399\n",
       "4         4      0.066095                0.968494\n",
       "5         5      0.022858                0.991352\n",
       "6         6      0.006588                0.997940\n",
       "7         7      0.001627                0.999567\n",
       "8         8      0.000352                0.999919\n",
       "9         9      0.000068                0.999986"
      ]
     },
     "execution_count": 40,
     "metadata": {},
     "output_type": "execute_result"
    }
   ],
   "source": [
    "y = np.arange(10)\n",
    "PFM = Y.pmf(k = y)\n",
    "CDF = Y.cdf(x = y)\n",
    "\n",
    "data = {\"Llamadas\": y,\n",
    "        \"Probabilidad\": PFM,\n",
    "        \"Probabilidad acumulada\": CDF}\n",
    "\n",
    "df = pd.DataFrame(data)\n",
    "df"
   ]
  },
  {
   "cell_type": "code",
   "execution_count": 41,
   "metadata": {},
   "outputs": [
    {
     "data": {
      "text/plain": [
       "Text(0.5, 0, 'Numero de llamadas en una hora')"
      ]
     },
     "execution_count": 41,
     "metadata": {},
     "output_type": "execute_result"
    },
    {
     "data": {
      "image/png": "[encoded data removed]",
      "text/plain": [
       "<Figure size 640x480 with 2 Axes>"
      ]
     },
     "metadata": {},
     "output_type": "display_data"
    }
   ],
   "source": [
    "fig, axs = plt.subplots(2)\n",
    "fig.suptitle('PMF y CDF')\n",
    "# Grafica PFM\n",
    "axs[0].plot(y, PFM, 'bs', ms=10)\n",
    "axs[0].vlines(y, 0, PFM, colors='b', lw = 5, alpha=0.5)\n",
    "axs[0].set_ylabel(\"Probabilidad\")\n",
    "# Grafica CDF\n",
    "axs[1].plot(y, CDF, 'rs', ms=10)\n",
    "axs[1].vlines(y, 0, CDF, colors='r', lw = 5, alpha=0.5)\n",
    "axs[1].set_ylabel(\"Probabilidad acumulada\")\n",
    "axs[1].set_xlabel(\"Numero de llamadas en una hora\")\n"
   ]
  },
  {
   "attachments": {},
   "cell_type": "markdown",
   "metadata": {},
   "source": [
    "* ¿Cuál es la probabilidad de que un usuario de mensajes de texto reciba o envíe dos mensajes por hora? "
   ]
  },
  {
   "cell_type": "code",
   "execution_count": 42,
   "metadata": {},
   "outputs": [
    {
     "name": "stdout",
     "output_type": "stream",
     "text": [
      "P(Y = 2) = 0.2653\n"
     ]
    }
   ],
   "source": [
    "# P(Y = 2) \n",
    "P_eq_2 = Y.pmf(k = 2)\n",
    "print(\"P(Y = 2) = {0:.4f}\".format(P_eq_2))"
   ]
  },
  {
   "attachments": {},
   "cell_type": "markdown",
   "metadata": {},
   "source": [
    "* ¿Cuál es la probabilidad de que un usuario de mensajes de texto reciba o envíe más de dos mensajes por hora? "
   ]
  },
  {
   "cell_type": "code",
   "execution_count": 43,
   "metadata": {},
   "outputs": [
    {
     "name": "stdout",
     "output_type": "stream",
     "text": [
      "P(Y > 2) = 1 - P(Y <= 2)  = 0.2505\n"
     ]
    }
   ],
   "source": [
    "# P(Y > 2) = 1 - P(Y <= 2) \n",
    "P_gt_2 = 1 - Y.cdf(x = 2)\n",
    "print(\"P(Y > 2) = 1 - P(Y <= 2)  = {0:.4f}\".format(P_gt_2))"
   ]
  }
 ],
 "metadata": {
  "kernelspec": {
   "display_name": "Python 3",
   "language": "python",
   "name": "python3"
  },
  "language_info": {
   "codemirror_mode": {
    "name": "ipython",
    "version": 3
   },
   "file_extension": ".py",
   "mimetype": "text/x-python",
   "name": "python",
   "nbconvert_exporter": "python",
   "pygments_lexer": "ipython3",
   "version": "3.9.13"
  },
  "vscode": {
   "interpreter": {
    "hash": "e06ff7da33dc9620448857a90ad8b5f428f0d573d205a934d2841c8aee45ea32"
   }
  }
 },
 "nbformat": 4,
 "nbformat_minor": 4
}
