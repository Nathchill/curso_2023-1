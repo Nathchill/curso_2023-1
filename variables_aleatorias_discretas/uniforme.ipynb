{
 "cells": [
  {
   "attachments": {},
   "cell_type": "markdown",
   "metadata": {},
   "source": [
    "[![Open In Colab](https://colab.research.google.com/assets/colab-badge.svg)](https://colab.research.google.com/github/estocasticos-udem/curso_2023-1/blob/main/variables_aleatorias_discretas/uniforme.ipynb)"
   ]
  },
  {
   "cell_type": "code",
   "execution_count": 1,
   "metadata": {},
   "outputs": [],
   "source": [
    "import scipy.stats as stats\n",
    "import numpy as np\n",
    "import matplotlib.pyplot as plt\n",
    "import pandas as pd"
   ]
  },
  {
   "attachments": {},
   "cell_type": "markdown",
   "metadata": {},
   "source": [
    "# Distribución uniforme"
   ]
  },
  {
   "attachments": {},
   "cell_type": "markdown",
   "metadata": {},
   "source": [
    "## Ejemplo 1\n",
    "\n",
    "Suponga que se lanza un dado no cargado. Responda las siguientes pregunras:\n",
    "1. ¿Que tipo de distribución sigue?\n",
    "2. Dibuje la PFM y la CDF asociada al problema.\n",
    "3. ¿Cual es la probabilidad de que el numero que caiga sea par?\n",
    "4. ¿Cual es la probabilidad de que el numero que caiga sea menor que 4?\n",
    "5. ¿Cual es la probabilidad de que el numero que caiga sea 5 o 6?"
   ]
  },
  {
   "attachments": {},
   "cell_type": "markdown",
   "metadata": {},
   "source": [
    "**Solución punto 1**\n",
    "\n",
    "Como todos los eventos posibles de este experimento son igualmente probables (pues el dado no es cargado), la distribución de probabilidad asociada al exprerimento es uniforme con parametros $k=1$ y $l=6$. Para este caso sea $X$ la Variable aleatoria como:\n",
    "\n",
    "$$X:\\mathrm{\\;Numero\\;de\\;puntos\\;que\\;aparecen\\;en\\;el\\;lado\\;hacia\\;arriba}$$\n",
    "\n",
    "Tenemos que el rango de esta VA es:\n",
    "\n",
    "$$x=s_X=\\{1,2,3,4,5,6\\}$$\n",
    "\n",
    "Asi tenemos que, $X \\sim U(k=1,l=6)$\n",
    "\n",
    "En python esto es:"
   ]
  },
  {
   "cell_type": "code",
   "execution_count": 23,
   "metadata": {},
   "outputs": [],
   "source": [
    "\"\"\"\n",
    "Definición de la VA Poisson: X ~ Poisson(alpha)\n",
    "\n",
    "X: número de panes puestos en la estantería en cinco minutos\n",
    "\n",
    "# Parametros\n",
    "a = 5 (alpha)\n",
    "\"\"\"\n",
    "\n",
    "\"\"\"\n",
    "Definición de la VA Uniforme: X ~ Uniforme(k,l)\n",
    "\n",
    "X: El numero de puntos de la cara que cae arriba\n",
    "\n",
    "# Parametros\n",
    "k = 1 (Valor minimo)\n",
    "l = 6 (Valor maximo)\n",
    "\"\"\"\n",
    "\n",
    "k = 1\n",
    "l = 6\n",
    "X = stats.randint(low = k, high = l + 1) # Variable aleatoria uniforme"
   ]
  },
  {
   "attachments": {},
   "cell_type": "markdown",
   "metadata": {},
   "source": [
    "**Solución punto 2**"
   ]
  },
  {
   "cell_type": "code",
   "execution_count": 4,
   "metadata": {},
   "outputs": [
    {
     "data": {
      "text/html": [
       "<div>\n",
       "<style scoped>\n",
       "    .dataframe tbody tr th:only-of-type {\n",
       "        vertical-align: middle;\n",
       "    }\n",
       "\n",
       "    .dataframe tbody tr th {\n",
       "        vertical-align: top;\n",
       "    }\n",
       "\n",
       "    .dataframe thead th {\n",
       "        text-align: right;\n",
       "    }\n",
       "</style>\n",
       "<table border=\"1\" class=\"dataframe\">\n",
       "  <thead>\n",
       "    <tr style=\"text-align: right;\">\n",
       "      <th></th>\n",
       "      <th>PFM</th>\n",
       "      <th>CDF</th>\n",
       "    </tr>\n",
       "  </thead>\n",
       "  <tbody>\n",
       "    <tr>\n",
       "      <th>0</th>\n",
       "      <td>0.000000</td>\n",
       "      <td>0.000000</td>\n",
       "    </tr>\n",
       "    <tr>\n",
       "      <th>1</th>\n",
       "      <td>0.166667</td>\n",
       "      <td>0.166667</td>\n",
       "    </tr>\n",
       "    <tr>\n",
       "      <th>2</th>\n",
       "      <td>0.166667</td>\n",
       "      <td>0.333333</td>\n",
       "    </tr>\n",
       "    <tr>\n",
       "      <th>3</th>\n",
       "      <td>0.166667</td>\n",
       "      <td>0.500000</td>\n",
       "    </tr>\n",
       "    <tr>\n",
       "      <th>4</th>\n",
       "      <td>0.166667</td>\n",
       "      <td>0.666667</td>\n",
       "    </tr>\n",
       "    <tr>\n",
       "      <th>5</th>\n",
       "      <td>0.166667</td>\n",
       "      <td>0.833333</td>\n",
       "    </tr>\n",
       "    <tr>\n",
       "      <th>6</th>\n",
       "      <td>0.166667</td>\n",
       "      <td>1.000000</td>\n",
       "    </tr>\n",
       "    <tr>\n",
       "      <th>7</th>\n",
       "      <td>0.000000</td>\n",
       "      <td>1.000000</td>\n",
       "    </tr>\n",
       "    <tr>\n",
       "      <th>8</th>\n",
       "      <td>0.000000</td>\n",
       "      <td>1.000000</td>\n",
       "    </tr>\n",
       "    <tr>\n",
       "      <th>9</th>\n",
       "      <td>0.000000</td>\n",
       "      <td>1.000000</td>\n",
       "    </tr>\n",
       "    <tr>\n",
       "      <th>10</th>\n",
       "      <td>0.000000</td>\n",
       "      <td>1.000000</td>\n",
       "    </tr>\n",
       "  </tbody>\n",
       "</table>\n",
       "</div>"
      ],
      "text/plain": [
       "         PFM       CDF\n",
       "0   0.000000  0.000000\n",
       "1   0.166667  0.166667\n",
       "2   0.166667  0.333333\n",
       "3   0.166667  0.500000\n",
       "4   0.166667  0.666667\n",
       "5   0.166667  0.833333\n",
       "6   0.166667  1.000000\n",
       "7   0.000000  1.000000\n",
       "8   0.000000  1.000000\n",
       "9   0.000000  1.000000\n",
       "10  0.000000  1.000000"
      ]
     },
     "execution_count": 4,
     "metadata": {},
     "output_type": "execute_result"
    }
   ],
   "source": [
    "x = np.arange(11)\n",
    "\n",
    "# PFM\n",
    "PFM_X = X.pmf(k = x)\n",
    "CDF_X = X.cdf(x = x)\n",
    "\n",
    "# Dataframe\n",
    "data = {\n",
    "  \"PFM\": PFM_X,\n",
    "  \"CDF\": CDF_X\n",
    "}\n",
    "df = pd.DataFrame(data)\n",
    "df"
   ]
  },
  {
   "cell_type": "code",
   "execution_count": 15,
   "metadata": {},
   "outputs": [
    {
     "data": {
      "image/png": "[encoded data removed]",
      "text/plain": [
       "<Figure size 640x480 with 1 Axes>"
      ]
     },
     "metadata": {},
     "output_type": "display_data"
    }
   ],
   "source": [
    "# Grafica de la PMF\n",
    "plt.title(\"PFM\")\n",
    "plt.plot(x, PFM_X, 'bs', ms=10)\n",
    "plt.vlines(x, 0, PFM_X, colors='b', lw = 5, alpha=0.5)\n",
    "plt.xlabel(\"$x$\")\n",
    "plt.ylabel(\"$P(X = x)$\")\n",
    "plt.show()"
   ]
  },
  {
   "cell_type": "code",
   "execution_count": 16,
   "metadata": {},
   "outputs": [
    {
     "data": {
      "image/png": "[encoded data removed]",
      "text/plain": [
       "<Figure size 640x480 with 1 Axes>"
      ]
     },
     "metadata": {},
     "output_type": "display_data"
    }
   ],
   "source": [
    "# Grafica de la CDF\n",
    "plt.title(\"CDF\")\n",
    "plt.plot(x, CDF_X, 'rs', ms=10)\n",
    "plt.vlines(x, 0, CDF_X, colors='r', lw = 5, alpha=0.5)\n",
    "plt.xlabel(\"$x$\")\n",
    "plt.ylabel(\"$P(X \\leq x)$\")\n",
    "plt.show()"
   ]
  },
  {
   "attachments": {},
   "cell_type": "markdown",
   "metadata": {},
   "source": [
    "**Solución punto 3**\n",
    "\n",
    "Al preguntarnos por la probabilidad de que el numero que caiga sea par, nos piden $P(\\mathrm{x\\;sea\\;par})$ es decir:\n",
    "\n",
    "$$P(\\mathrm{x\\;sea\\;par}) = P(X = 2 | X = 4 | X = 6) = P(X = 2) + P(X = 4) + P(X = 6)$$"
   ]
  },
  {
   "cell_type": "code",
   "execution_count": 18,
   "metadata": {},
   "outputs": [
    {
     "name": "stdout",
     "output_type": "stream",
     "text": [
      "P(X sea par) = 0.500000\n"
     ]
    }
   ],
   "source": [
    "P_par = sum(X.pmf([2,4,6]))\n",
    "print(\"P(X sea par) = {0:2f}\".format(P_par))"
   ]
  },
  {
   "attachments": {},
   "cell_type": "markdown",
   "metadata": {},
   "source": [
    "**Solución punto 4**\n",
    "\n",
    "La probabilidad de que el numero que caiga sea menor que 4 pide $P(X < 4)$ es decir:\n",
    "\n",
    "$$P(X < 4) = P(X <= 3) = P(X = 1 | X = 2 | X = 3) = P(X = 1) + P(X = 2) + P(X = 3)$$"
   ]
  },
  {
   "cell_type": "code",
   "execution_count": 22,
   "metadata": {},
   "outputs": [
    {
     "name": "stdout",
     "output_type": "stream",
     "text": [
      "Forma 1: P(X < 4) = 0.500000\n",
      "Forma 2: P(X < 4) = 0.500000\n"
     ]
    }
   ],
   "source": [
    "# Forma 1\n",
    "P_men4_f1 = sum(X.pmf(range(1,4)))\n",
    "print(\"Forma 1: P(X < 4) = {0:2f}\".format(P_men4_f1))\n",
    "# Forma 2\n",
    "P_men4_f2 = X.cdf(3)\n",
    "print(\"Forma 2: P(X < 4) = {0:2f}\".format(P_men4_f2))"
   ]
  },
  {
   "attachments": {},
   "cell_type": "markdown",
   "metadata": {},
   "source": [
    "**Solución punto 5**\n",
    "\n",
    "Al decirno ¿Cual es la probabilidad de que el numero que caiga sea 5 o 6? nos piden $P(X = 5 | X = 6)$ es decir:\n",
    "\n",
    "$$P(X = 5 | X = 6) = P(X = 5) + P(X = 6) = P(X > 4) = 1 - P(X \\leq 4)$$"
   ]
  },
  {
   "cell_type": "code",
   "execution_count": 21,
   "metadata": {},
   "outputs": [
    {
     "name": "stdout",
     "output_type": "stream",
     "text": [
      "Forma 1: P(X = 5 | X = 6) = P(X = 5) + P(X = 6) = 0.333333\n",
      "Forma 2: P(X = 5 | X = 6) = 1 + P(X \\leq 4)  = 0.333333\n"
     ]
    }
   ],
   "source": [
    "# Forma 1\n",
    "P_5o6_f1 = sum(X.pmf([5,6]))\n",
    "print(\"Forma 1: P(X = 5 | X = 6) = P(X = 5) + P(X = 6) = {0:2f}\".format(P_5o6_f1))\n",
    "# Forma 2\n",
    "P_5o6_f2 = 1 - X.cdf(4)\n",
    "print(\"Forma 2: P(X = 5 | X = 6) = 1 + P(X \\leq 4)  = {0:2f}\".format(P_5o6_f2))"
   ]
  }
 ],
 "metadata": {
  "kernelspec": {
   "display_name": "Python 3",
   "language": "python",
   "name": "python3"
  },
  "language_info": {
   "codemirror_mode": {
    "name": "ipython",
    "version": 3
   },
   "file_extension": ".py",
   "mimetype": "text/x-python",
   "name": "python",
   "nbconvert_exporter": "python",
   "pygments_lexer": "ipython3",
   "version": "3.9.13"
  },
  "vscode": {
   "interpreter": {
    "hash": "e06ff7da33dc9620448857a90ad8b5f428f0d573d205a934d2841c8aee45ea32"
   }
  }
 },
 "nbformat": 4,
 "nbformat_minor": 4
}
