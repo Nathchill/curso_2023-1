{
 "cells": [
  {
   "attachments": {},
   "cell_type": "markdown",
   "metadata": {},
   "source": [
    "[![Open In Colab](https://colab.research.google.com/assets/colab-badge.svg)](https://colab.research.google.com/github/estocasticos-udem/curso_2023-1/blob/main/variables_aleatorias_discretas/hipergeometrica.ipynb)"
   ]
  },
  {
   "cell_type": "code",
   "execution_count": 2,
   "metadata": {},
   "outputs": [],
   "source": [
    "import scipy.stats as stats\n",
    "import numpy as np\n",
    "import matplotlib.pyplot as plt\n",
    "import pandas as pd"
   ]
  },
  {
   "attachments": {},
   "cell_type": "markdown",
   "metadata": {},
   "source": [
    "# Distribución Hipergeometrica"
   ]
  },
  {
   "attachments": {},
   "cell_type": "markdown",
   "metadata": {},
   "source": [
    "## Ejemplo 1\n",
    "\n",
    "Un recipiente tiene 12 botellas de vinos, 3 de las cuales contienen vino que se ha echado a perder. Una muestra de 4 botellas se selecciona al azar de entre la caja. \n",
    "* Encuentre la distribución de probabilidad para x, el número de botellas de vino echado a perder de la muestra.\n",
    "* ¿Cuáles son la media y la varianza de x?\n",
    "\n",
    "**Solución**\n",
    "\n",
    "A continuación se muestra el analisis del problema:\n",
    "* **Tipo**: Experimento hipergeométrico.\n",
    "* **Primer grupo (grupo de interés)**: Vino vinagre\n",
    "* **Segundo grupo**: Vino en buen estado.\n",
    " \n",
    " Luego, sea la VA $X$: Numero de botellas de vino vinagre; donde $x=S_X=\\{0,1,2,3\\}$, como el experimento es hipergeometrico, $X \\sim H(r,b,n)$ donde:\n",
    " * $n = 4$\n",
    " * $r = 3$\n",
    " * $b = 9$\n"
   ]
  },
  {
   "attachments": {},
   "cell_type": "markdown",
   "metadata": {},
   "source": [
    "Para encontrar la distribución de probabilidad tenemos:"
   ]
  },
  {
   "cell_type": "code",
   "execution_count": 6,
   "metadata": {},
   "outputs": [],
   "source": [
    "\"\"\"\n",
    "Definición de la VA hipergeometrica: X ~ H(r,b,n)\n",
    "\n",
    "X: Numero de botellas de vino binagre\n",
    "\n",
    "# Parametros\n",
    "r = 3  # n (exitos)\n",
    "b = 9\n",
    "n = 4   # N (muestra)\n",
    "        # M = r + b (Total)\n",
    "\"\"\"\n",
    "\n",
    "r = 3   # n (exitos)\n",
    "b = 9\n",
    "n = 4   # N (muestra)\n",
    "        # M = r + b (Total)\n",
    "\n",
    "X = stats.hypergeom(N = n, n = r, M = r + b) # Variable aleatoria hipergeometrica\n",
    "x = np.arange(4) # Rango de la VA"
   ]
  },
  {
   "attachments": {},
   "cell_type": "markdown",
   "metadata": {},
   "source": [
    "* Calculo de la distribución de probabilidad: $P(X = x)$ donde $x=S_x=\\{0, 1, 2, 3\\}$"
   ]
  },
  {
   "cell_type": "code",
   "execution_count": 4,
   "metadata": {},
   "outputs": [
    {
     "data": {
      "text/html": [
       "<div>\n",
       "<style scoped>\n",
       "    .dataframe tbody tr th:only-of-type {\n",
       "        vertical-align: middle;\n",
       "    }\n",
       "\n",
       "    .dataframe tbody tr th {\n",
       "        vertical-align: top;\n",
       "    }\n",
       "\n",
       "    .dataframe thead th {\n",
       "        text-align: right;\n",
       "    }\n",
       "</style>\n",
       "<table border=\"1\" class=\"dataframe\">\n",
       "  <thead>\n",
       "    <tr style=\"text-align: right;\">\n",
       "      <th></th>\n",
       "      <th>x</th>\n",
       "      <th>pmf</th>\n",
       "    </tr>\n",
       "  </thead>\n",
       "  <tbody>\n",
       "    <tr>\n",
       "      <th>0</th>\n",
       "      <td>0</td>\n",
       "      <td>0.254545</td>\n",
       "    </tr>\n",
       "    <tr>\n",
       "      <th>1</th>\n",
       "      <td>1</td>\n",
       "      <td>0.509091</td>\n",
       "    </tr>\n",
       "    <tr>\n",
       "      <th>2</th>\n",
       "      <td>2</td>\n",
       "      <td>0.218182</td>\n",
       "    </tr>\n",
       "    <tr>\n",
       "      <th>3</th>\n",
       "      <td>3</td>\n",
       "      <td>0.018182</td>\n",
       "    </tr>\n",
       "  </tbody>\n",
       "</table>\n",
       "</div>"
      ],
      "text/plain": [
       "   x       pmf\n",
       "0  0  0.254545\n",
       "1  1  0.509091\n",
       "2  2  0.218182\n",
       "3  3  0.018182"
      ]
     },
     "execution_count": 4,
     "metadata": {},
     "output_type": "execute_result"
    }
   ],
   "source": [
    "pmf = X.pmf(x)\n",
    "df = pd.DataFrame({\"x\": x,\"pmf\": pmf},columns=[\"x\",\"pmf\"])\n",
    "df"
   ]
  },
  {
   "cell_type": "code",
   "execution_count": 5,
   "metadata": {},
   "outputs": [
    {
     "data": {
      "text/plain": [
       "Text(0, 0.5, 'Probabilidad')"
      ]
     },
     "execution_count": 5,
     "metadata": {},
     "output_type": "execute_result"
    },
    {
     "data": {
      "image/png": "[encoded data removed]",
      "text/plain": [
       "<Figure size 640x480 with 1 Axes>"
      ]
     },
     "metadata": {},
     "output_type": "display_data"
    }
   ],
   "source": [
    "# Grafica de la PMF\n",
    "plt.plot(x, pmf, 'gs', ms=10)\n",
    "plt.vlines(x, 0, pmf, colors='g', lw = 5, alpha=0.5)\n",
    "plt.xlabel(\"Numero de botellas de vino binagre\")\n",
    "plt.ylabel(\"Probabilidad\")"
   ]
  },
  {
   "attachments": {},
   "cell_type": "markdown",
   "metadata": {},
   "source": [
    "* Calculo de la media, la varianza y la desviación estandar"
   ]
  },
  {
   "cell_type": "code",
   "execution_count": 7,
   "metadata": {},
   "outputs": [
    {
     "name": "stdout",
     "output_type": "stream",
     "text": [
      "- Media: E(X) = 1.000000\n",
      "- Varianza: Var(X) = 0.545455\n",
      "- Desv. estandar: sd(X) = 0.738549\n"
     ]
    }
   ],
   "source": [
    "E = X.mean()      \n",
    "V = X.var()\n",
    "S = X.std()      \n",
    "\n",
    "print(\"- Media: E(X) = {0:2f}\".format(E))\n",
    "print(\"- Varianza: Var(X) = {0:2f}\".format(V))\n",
    "print(\"- Desv. estandar: sd(X) = {0:2f}\".format(S))"
   ]
  },
  {
   "attachments": {},
   "cell_type": "markdown",
   "metadata": {},
   "source": [
    "## Ejemplo 2\n",
    "\n",
    "El comité escolar se elegirá al azar entre seis hombres y cinco mujeres. Si el comité está formado por cuatro miembros elegidos al azar: \n",
    "* ¿Cuál es la probabilidad de que dos de ellos sean hombres? \n",
    "* ¿Cuántos hombres espera que haya en el comité?\n",
    "\n",
    "**Solución**\n",
    "\n",
    "A continuación se muestra el analisis del problema:\n",
    "* **Tipo**: Experimento hipergeométrico.\n",
    "* **Primer grupo (grupo de interés)**: Hombres\n",
    "* **Segundo grupo**: Mujeres.\n",
    " \n",
    " Luego, sea la VA $H$: Número de hombres en el comite de cuatro personas; donde $h=S_H=\\{0,1,2,3,4\\}$, como el experimento es hipergeometrico, $H \\sim H(r,b,n)$ donde:\n",
    " * $n = 4$\n",
    " * $r = 6$\n",
    " * $b = 5$"
   ]
  },
  {
   "attachments": {},
   "cell_type": "markdown",
   "metadata": {},
   "source": [
    "* **Probabilidad de que dos miembros del comite sean hombres**: $P(H = 2)$"
   ]
  },
  {
   "cell_type": "code",
   "execution_count": 18,
   "metadata": {},
   "outputs": [
    {
     "data": {
      "text/html": [
       "<div>\n",
       "<style scoped>\n",
       "    .dataframe tbody tr th:only-of-type {\n",
       "        vertical-align: middle;\n",
       "    }\n",
       "\n",
       "    .dataframe tbody tr th {\n",
       "        vertical-align: top;\n",
       "    }\n",
       "\n",
       "    .dataframe thead th {\n",
       "        text-align: right;\n",
       "    }\n",
       "</style>\n",
       "<table border=\"1\" class=\"dataframe\">\n",
       "  <thead>\n",
       "    <tr style=\"text-align: right;\">\n",
       "      <th></th>\n",
       "      <th>h</th>\n",
       "      <th>pmf_h</th>\n",
       "    </tr>\n",
       "  </thead>\n",
       "  <tbody>\n",
       "    <tr>\n",
       "      <th>0</th>\n",
       "      <td>0</td>\n",
       "      <td>0.015152</td>\n",
       "    </tr>\n",
       "    <tr>\n",
       "      <th>1</th>\n",
       "      <td>1</td>\n",
       "      <td>0.181818</td>\n",
       "    </tr>\n",
       "    <tr>\n",
       "      <th>2</th>\n",
       "      <td>2</td>\n",
       "      <td>0.454545</td>\n",
       "    </tr>\n",
       "    <tr>\n",
       "      <th>3</th>\n",
       "      <td>3</td>\n",
       "      <td>0.303030</td>\n",
       "    </tr>\n",
       "  </tbody>\n",
       "</table>\n",
       "</div>"
      ],
      "text/plain": [
       "   h     pmf_h\n",
       "0  0  0.015152\n",
       "1  1  0.181818\n",
       "2  2  0.454545\n",
       "3  3  0.303030"
      ]
     },
     "execution_count": 18,
     "metadata": {},
     "output_type": "execute_result"
    }
   ],
   "source": [
    "\"\"\"\n",
    "Definición de la VA hipergeometrica: X ~ H(r,b,n)\n",
    "\n",
    "X: Numero de botellas de vino binagre\n",
    "\n",
    "# Parametros\n",
    "r = 4  # n (exitos)\n",
    "b = 6\n",
    "n = 5   # N (muestra)\n",
    "        # M = r + b (Total)\n",
    "\"\"\"\n",
    "\n",
    "r = 6   # n (exitos)\n",
    "b = 5\n",
    "n = 4   # N (muestra)\n",
    "        # M = r + b (Total)\n",
    "\n",
    "H = stats.hypergeom(N = n, n = r, M = r + b) # Variable aleatoria hipergeometrica\n",
    "h = np.arange(4) # Rango de la VA\n",
    "\n",
    "# Calculo de la PMF\n",
    "pmf_h = H.pmf(h)\n",
    "df = pd.DataFrame({\"h\": h,\"pmf_h\": pmf_h},columns=[\"h\",\"pmf_h\"])\n",
    "df"
   ]
  },
  {
   "cell_type": "code",
   "execution_count": 19,
   "metadata": {},
   "outputs": [
    {
     "name": "stdout",
     "output_type": "stream",
     "text": [
      "h        2.000000\n",
      "pmf_h    0.454545\n",
      "Name: 2, dtype: float64\n"
     ]
    }
   ],
   "source": [
    "P_2 = df.iloc[2]\n",
    "print(P_2)"
   ]
  },
  {
   "attachments": {},
   "cell_type": "markdown",
   "metadata": {},
   "source": [
    "* **Numero de hombres que se espera en el comite**: $\\mu_H=?$"
   ]
  },
  {
   "cell_type": "code",
   "execution_count": 20,
   "metadata": {},
   "outputs": [
    {
     "name": "stdout",
     "output_type": "stream",
     "text": [
      "- Media: E(X) = 2.181818\n"
     ]
    }
   ],
   "source": [
    "E = H.mean()      \n",
    "print(\"- Media: E(X) = {0:2f}\".format(E))"
   ]
  },
  {
   "attachments": {},
   "cell_type": "markdown",
   "metadata": {},
   "source": [
    "Aunque no nos lo piden, procedamos a realizar los siguientes puntos:"
   ]
  },
  {
   "attachments": {},
   "cell_type": "markdown",
   "metadata": {},
   "source": [
    "* Grafica de la PMF"
   ]
  },
  {
   "cell_type": "code",
   "execution_count": 21,
   "metadata": {},
   "outputs": [
    {
     "data": {
      "text/plain": [
       "Text(0, 0.5, 'Probabilidad')"
      ]
     },
     "execution_count": 21,
     "metadata": {},
     "output_type": "execute_result"
    },
    {
     "data": {
      "image/png": "[encoded data removed]",
      "text/plain": [
       "<Figure size 640x480 with 1 Axes>"
      ]
     },
     "metadata": {},
     "output_type": "display_data"
    }
   ],
   "source": [
    "# Grafica de la PMF\n",
    "plt.plot(h, pmf_h, 'bs', ms=10)\n",
    "plt.vlines(h, 0, pmf_h, colors='b', lw = 5, alpha=0.5)\n",
    "plt.xlabel(\"Numero de hombres en el comite\")\n",
    "plt.ylabel(\"Probabilidad\")"
   ]
  },
  {
   "attachments": {},
   "cell_type": "markdown",
   "metadata": {},
   "source": [
    "* **Varianza y desviación estantar**"
   ]
  },
  {
   "cell_type": "code",
   "execution_count": 22,
   "metadata": {},
   "outputs": [
    {
     "name": "stdout",
     "output_type": "stream",
     "text": [
      "- Varianza: Var(X) = 0.694215\n",
      "- Desv. estandar: sd(X) = 0.833196\n"
     ]
    }
   ],
   "source": [
    "V = H.var()\n",
    "S = H.std() \n",
    "\n",
    "print(\"- Varianza: Var(X) = {0:2f}\".format(V))\n",
    "print(\"- Desv. estandar: sd(X) = {0:2f}\".format(S))"
   ]
  },
  {
   "attachments": {},
   "cell_type": "markdown",
   "metadata": {},
   "source": [
    "* **CDF**:"
   ]
  },
  {
   "cell_type": "code",
   "execution_count": 23,
   "metadata": {},
   "outputs": [
    {
     "data": {
      "text/html": [
       "<div>\n",
       "<style scoped>\n",
       "    .dataframe tbody tr th:only-of-type {\n",
       "        vertical-align: middle;\n",
       "    }\n",
       "\n",
       "    .dataframe tbody tr th {\n",
       "        vertical-align: top;\n",
       "    }\n",
       "\n",
       "    .dataframe thead th {\n",
       "        text-align: right;\n",
       "    }\n",
       "</style>\n",
       "<table border=\"1\" class=\"dataframe\">\n",
       "  <thead>\n",
       "    <tr style=\"text-align: right;\">\n",
       "      <th></th>\n",
       "      <th>h</th>\n",
       "      <th>cdf_h</th>\n",
       "    </tr>\n",
       "  </thead>\n",
       "  <tbody>\n",
       "    <tr>\n",
       "      <th>0</th>\n",
       "      <td>0</td>\n",
       "      <td>0.015152</td>\n",
       "    </tr>\n",
       "    <tr>\n",
       "      <th>1</th>\n",
       "      <td>1</td>\n",
       "      <td>0.196970</td>\n",
       "    </tr>\n",
       "    <tr>\n",
       "      <th>2</th>\n",
       "      <td>2</td>\n",
       "      <td>0.651515</td>\n",
       "    </tr>\n",
       "    <tr>\n",
       "      <th>3</th>\n",
       "      <td>3</td>\n",
       "      <td>0.954545</td>\n",
       "    </tr>\n",
       "  </tbody>\n",
       "</table>\n",
       "</div>"
      ],
      "text/plain": [
       "   h     cdf_h\n",
       "0  0  0.015152\n",
       "1  1  0.196970\n",
       "2  2  0.651515\n",
       "3  3  0.954545"
      ]
     },
     "execution_count": 23,
     "metadata": {},
     "output_type": "execute_result"
    }
   ],
   "source": [
    "cdf_h = H.cdf(h)\n",
    "df2 = pd.DataFrame({\"h\": h,\"cdf_h\": cdf_h},columns=[\"h\",\"cdf_h\"])\n",
    "df2"
   ]
  },
  {
   "cell_type": "code",
   "execution_count": 24,
   "metadata": {},
   "outputs": [
    {
     "data": {
      "text/plain": [
       "Text(0, 0.5, 'CFD')"
      ]
     },
     "execution_count": 24,
     "metadata": {},
     "output_type": "execute_result"
    },
    {
     "data": {
      "image/png": "[encoded data removed]",
      "text/plain": [
       "<Figure size 640x480 with 1 Axes>"
      ]
     },
     "metadata": {},
     "output_type": "display_data"
    }
   ],
   "source": [
    "# Grafica\n",
    "plt.plot(h, cdf_h, 'rs', ms=10)\n",
    "plt.vlines(h, 0, cdf_h, colors='r', lw = 5, alpha=0.5)\n",
    "plt.xlabel(\"Numero hombres en el comite\")\n",
    "plt.ylabel(\"CFD\")"
   ]
  },
  {
   "attachments": {},
   "cell_type": "markdown",
   "metadata": {},
   "source": [
    "## Ejemplo 3\n",
    "Usted es el presidente de una organización de eventos especiales en el campus. Necesita un comité de siete estudiantes para planificar una fiesta de cumpleaños especial para el presidente del instituto universitario. Su organización está formada por 18 mujeres y 15 hombres. Le interesa el número de hombres en su comité. Si los miembros del comité se seleccionan al azar, ¿cuál es la probabilidad de que su comité tenga más de cuatro hombres?\n"
   ]
  }
 ],
 "metadata": {
  "kernelspec": {
   "display_name": "Python 3",
   "language": "python",
   "name": "python3"
  },
  "language_info": {
   "codemirror_mode": {
    "name": "ipython",
    "version": 3
   },
   "file_extension": ".py",
   "mimetype": "text/x-python",
   "name": "python",
   "nbconvert_exporter": "python",
   "pygments_lexer": "ipython3",
   "version": "3.9.13"
  },
  "vscode": {
   "interpreter": {
    "hash": "e06ff7da33dc9620448857a90ad8b5f428f0d573d205a934d2841c8aee45ea32"
   }
  }
 },
 "nbformat": 4,
 "nbformat_minor": 4
}
